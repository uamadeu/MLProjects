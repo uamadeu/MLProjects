{
 "cells": [
  {
   "cell_type": "markdown",
   "id": "4d9a7ce8",
   "metadata": {},
   "source": [
    "# Import libraries"
   ]
  },
  {
   "cell_type": "code",
   "execution_count": 82,
   "id": "d633da86",
   "metadata": {},
   "outputs": [],
   "source": [
    "import pandas as pd\n",
    "import seaborn as sns\n",
    "import numpy as np\n",
    "import matplotlib.pyplot as plt\n",
    "from sklearn.preprocessing import OneHotEncoder, StandardScaler\n",
    "from sklearn.pipeline import make_pipeline\n",
    "from sklearn.model_selection import train_test_split, cross_val_score, GridSearchCV\n",
    "from sklearn.metrics import confusion_matrix\n",
    "from sklearn.compose import make_column_transformer\n",
    "from sklearn.ensemble import RandomForestClassifier\n",
    "from sklearn.naive_bayes import BernoulliNB\n",
    "from sklearn import svm"
   ]
  },
  {
   "cell_type": "markdown",
   "id": "ad5e401a",
   "metadata": {},
   "source": [
    "# Loading data"
   ]
  },
  {
   "cell_type": "code",
   "execution_count": 83,
   "id": "f014753a",
   "metadata": {},
   "outputs": [
    {
     "data": {
      "text/html": [
       "<div>\n",
       "<style scoped>\n",
       "    .dataframe tbody tr th:only-of-type {\n",
       "        vertical-align: middle;\n",
       "    }\n",
       "\n",
       "    .dataframe tbody tr th {\n",
       "        vertical-align: top;\n",
       "    }\n",
       "\n",
       "    .dataframe thead th {\n",
       "        text-align: right;\n",
       "    }\n",
       "</style>\n",
       "<table border=\"1\" class=\"dataframe\">\n",
       "  <thead>\n",
       "    <tr style=\"text-align: right;\">\n",
       "      <th></th>\n",
       "      <th>Temperature</th>\n",
       "      <th>L</th>\n",
       "      <th>R</th>\n",
       "      <th>A_M</th>\n",
       "      <th>Color</th>\n",
       "      <th>Spectral_Class</th>\n",
       "      <th>Type</th>\n",
       "    </tr>\n",
       "  </thead>\n",
       "  <tbody>\n",
       "    <tr>\n",
       "      <th>0</th>\n",
       "      <td>3068</td>\n",
       "      <td>0.002400</td>\n",
       "      <td>0.1700</td>\n",
       "      <td>16.12</td>\n",
       "      <td>Red</td>\n",
       "      <td>M</td>\n",
       "      <td>0</td>\n",
       "    </tr>\n",
       "    <tr>\n",
       "      <th>1</th>\n",
       "      <td>3042</td>\n",
       "      <td>0.000500</td>\n",
       "      <td>0.1542</td>\n",
       "      <td>16.60</td>\n",
       "      <td>Red</td>\n",
       "      <td>M</td>\n",
       "      <td>0</td>\n",
       "    </tr>\n",
       "    <tr>\n",
       "      <th>2</th>\n",
       "      <td>2600</td>\n",
       "      <td>0.000300</td>\n",
       "      <td>0.1020</td>\n",
       "      <td>18.70</td>\n",
       "      <td>Red</td>\n",
       "      <td>M</td>\n",
       "      <td>0</td>\n",
       "    </tr>\n",
       "    <tr>\n",
       "      <th>3</th>\n",
       "      <td>2800</td>\n",
       "      <td>0.000200</td>\n",
       "      <td>0.1600</td>\n",
       "      <td>16.65</td>\n",
       "      <td>Red</td>\n",
       "      <td>M</td>\n",
       "      <td>0</td>\n",
       "    </tr>\n",
       "    <tr>\n",
       "      <th>4</th>\n",
       "      <td>1939</td>\n",
       "      <td>0.000138</td>\n",
       "      <td>0.1030</td>\n",
       "      <td>20.06</td>\n",
       "      <td>Red</td>\n",
       "      <td>M</td>\n",
       "      <td>0</td>\n",
       "    </tr>\n",
       "    <tr>\n",
       "      <th>...</th>\n",
       "      <td>...</td>\n",
       "      <td>...</td>\n",
       "      <td>...</td>\n",
       "      <td>...</td>\n",
       "      <td>...</td>\n",
       "      <td>...</td>\n",
       "      <td>...</td>\n",
       "    </tr>\n",
       "    <tr>\n",
       "      <th>235</th>\n",
       "      <td>38940</td>\n",
       "      <td>374830.000000</td>\n",
       "      <td>1356.0000</td>\n",
       "      <td>-9.93</td>\n",
       "      <td>Blue</td>\n",
       "      <td>O</td>\n",
       "      <td>5</td>\n",
       "    </tr>\n",
       "    <tr>\n",
       "      <th>236</th>\n",
       "      <td>30839</td>\n",
       "      <td>834042.000000</td>\n",
       "      <td>1194.0000</td>\n",
       "      <td>-10.63</td>\n",
       "      <td>Blue</td>\n",
       "      <td>O</td>\n",
       "      <td>5</td>\n",
       "    </tr>\n",
       "    <tr>\n",
       "      <th>237</th>\n",
       "      <td>8829</td>\n",
       "      <td>537493.000000</td>\n",
       "      <td>1423.0000</td>\n",
       "      <td>-10.73</td>\n",
       "      <td>White</td>\n",
       "      <td>A</td>\n",
       "      <td>5</td>\n",
       "    </tr>\n",
       "    <tr>\n",
       "      <th>238</th>\n",
       "      <td>9235</td>\n",
       "      <td>404940.000000</td>\n",
       "      <td>1112.0000</td>\n",
       "      <td>-11.23</td>\n",
       "      <td>White</td>\n",
       "      <td>A</td>\n",
       "      <td>5</td>\n",
       "    </tr>\n",
       "    <tr>\n",
       "      <th>239</th>\n",
       "      <td>37882</td>\n",
       "      <td>294903.000000</td>\n",
       "      <td>1783.0000</td>\n",
       "      <td>-7.80</td>\n",
       "      <td>Blue</td>\n",
       "      <td>O</td>\n",
       "      <td>5</td>\n",
       "    </tr>\n",
       "  </tbody>\n",
       "</table>\n",
       "<p>240 rows × 7 columns</p>\n",
       "</div>"
      ],
      "text/plain": [
       "     Temperature              L          R    A_M  Color Spectral_Class  Type\n",
       "0           3068       0.002400     0.1700  16.12    Red              M     0\n",
       "1           3042       0.000500     0.1542  16.60    Red              M     0\n",
       "2           2600       0.000300     0.1020  18.70    Red              M     0\n",
       "3           2800       0.000200     0.1600  16.65    Red              M     0\n",
       "4           1939       0.000138     0.1030  20.06    Red              M     0\n",
       "..           ...            ...        ...    ...    ...            ...   ...\n",
       "235        38940  374830.000000  1356.0000  -9.93   Blue              O     5\n",
       "236        30839  834042.000000  1194.0000 -10.63   Blue              O     5\n",
       "237         8829  537493.000000  1423.0000 -10.73  White              A     5\n",
       "238         9235  404940.000000  1112.0000 -11.23  White              A     5\n",
       "239        37882  294903.000000  1783.0000  -7.80   Blue              O     5\n",
       "\n",
       "[240 rows x 7 columns]"
      ]
     },
     "execution_count": 83,
     "metadata": {},
     "output_type": "execute_result"
    }
   ],
   "source": [
    "df = pd.read_csv('Stars.csv')\n",
    "df"
   ]
  },
  {
   "cell_type": "markdown",
   "id": "76de5ace",
   "metadata": {},
   "source": [
    "# Exploratory Data Analysis"
   ]
  },
  {
   "cell_type": "markdown",
   "id": "cc69b236",
   "metadata": {},
   "source": [
    "### There's no null value in the data, so we don't need to worry about missing values imputation. Further we will analyze the need of scale and one hot encode the columns."
   ]
  },
  {
   "cell_type": "code",
   "execution_count": 84,
   "id": "0af7a978",
   "metadata": {
    "scrolled": true
   },
   "outputs": [
    {
     "name": "stdout",
     "output_type": "stream",
     "text": [
      "<class 'pandas.core.frame.DataFrame'>\n",
      "RangeIndex: 240 entries, 0 to 239\n",
      "Data columns (total 7 columns):\n",
      " #   Column          Non-Null Count  Dtype  \n",
      "---  ------          --------------  -----  \n",
      " 0   Temperature     240 non-null    int64  \n",
      " 1   L               240 non-null    float64\n",
      " 2   R               240 non-null    float64\n",
      " 3   A_M             240 non-null    float64\n",
      " 4   Color           240 non-null    object \n",
      " 5   Spectral_Class  240 non-null    object \n",
      " 6   Type            240 non-null    int64  \n",
      "dtypes: float64(3), int64(2), object(2)\n",
      "memory usage: 13.2+ KB\n"
     ]
    }
   ],
   "source": [
    "df.info()"
   ]
  },
  {
   "cell_type": "code",
   "execution_count": 85,
   "id": "794a2394",
   "metadata": {
    "scrolled": true
   },
   "outputs": [
    {
     "name": "stderr",
     "output_type": "stream",
     "text": [
      "C:\\Users\\Sérgio\\AppData\\Local\\Temp\\ipykernel_11168\\3698961737.py:1: FutureWarning: Dropping of nuisance columns in DataFrame reductions (with 'numeric_only=None') is deprecated; in a future version this will raise TypeError.  Select only valid columns before calling the reduction.\n",
      "  df.mean()\n"
     ]
    },
    {
     "data": {
      "text/plain": [
       "Temperature     10497.462500\n",
       "L              107188.361635\n",
       "R                 237.157781\n",
       "A_M                 4.382396\n",
       "Type                2.500000\n",
       "dtype: float64"
      ]
     },
     "execution_count": 85,
     "metadata": {},
     "output_type": "execute_result"
    }
   ],
   "source": [
    "df.mean()"
   ]
  },
  {
   "cell_type": "markdown",
   "id": "0cdde944",
   "metadata": {},
   "source": [
    "## Correlation Matrix"
   ]
  },
  {
   "cell_type": "code",
   "execution_count": 86,
   "id": "ab0040e2",
   "metadata": {
    "scrolled": true
   },
   "outputs": [
    {
     "data": {
      "text/plain": [
       "<AxesSubplot:>"
      ]
     },
     "execution_count": 86,
     "metadata": {},
     "output_type": "execute_result"
    },
    {
     "data": {
      "image/png": "[encoded data removed]",
      "text/plain": [
       "<Figure size 432x288 with 2 Axes>"
      ]
     },
     "metadata": {},
     "output_type": "display_data"
    }
   ],
   "source": [
    "sns.heatmap(df.corr(), annot=True, cmap='YlGnBu')"
   ]
  },
  {
   "cell_type": "markdown",
   "id": "a9ae6718",
   "metadata": {},
   "source": [
    "### By analyzing the correlation matriz between variables, we notice that A_M has an inverse correlation  with Star Type grater than 0.95. In other words, we could say we are predicting A_M instead of Star type once their correlation is close to 1. \n",
    "### To avoid overfitting the model, we can drop A_M from the analysis. When analyzing the graph below it's noticeable the relationship between A_M and Star Type or even between A_M and Temperature for some types.\n",
    "### Previous analysis using A_M parameters resulted in an overfitted model with 1.0 mean score."
   ]
  },
  {
   "cell_type": "code",
   "execution_count": 87,
   "id": "6db9866e",
   "metadata": {},
   "outputs": [
    {
     "data": {
      "text/plain": [
       "<AxesSubplot:xlabel='Temperature', ylabel='A_M'>"
      ]
     },
     "execution_count": 87,
     "metadata": {},
     "output_type": "execute_result"
    },
    {
     "data": {
      "image/png": "[encoded data removed]",
      "text/plain": [
       "<Figure size 432x288 with 1 Axes>"
      ]
     },
     "metadata": {},
     "output_type": "display_data"
    }
   ],
   "source": [
    "sns.scatterplot(data=df, x='Temperature', y='A_M', hue='Type', palette='YlGnBu')"
   ]
  },
  {
   "cell_type": "code",
   "execution_count": 88,
   "id": "aeb63d18",
   "metadata": {},
   "outputs": [],
   "source": [
    "a_m = df['A_M']\n",
    "df.drop(['A_M'], axis='columns', inplace=True)"
   ]
  },
  {
   "cell_type": "markdown",
   "id": "9b150147",
   "metadata": {},
   "source": [
    "## Graphic Analysis"
   ]
  },
  {
   "cell_type": "code",
   "execution_count": 89,
   "id": "bc30da1c",
   "metadata": {},
   "outputs": [
    {
     "data": {
      "image/png": "[encoded data removed]",
      "text/plain": [
       "<Figure size 1440x360 with 4 Axes>"
      ]
     },
     "metadata": {},
     "output_type": "display_data"
    }
   ],
   "source": [
    "items = [x for x in df.drop(['Color', 'Spectral_Class'], axis='columns', inplace=False)]\n",
    "n_cols = min(len(items), 5)\n",
    "n_rows = int(np.ceil(len(items) / n_cols))\n",
    "\n",
    "sns.set()\n",
    "fig, axes = plt.subplots(n_rows, n_cols, figsize=(20,5))\n",
    "axes = axes.flatten()\n",
    "for item, ax in zip(items, axes):\n",
    "    ax=sns.boxplot(data=df, x='Type', y=item, ax=ax)"
   ]
  },
  {
   "cell_type": "code",
   "execution_count": 90,
   "id": "0160a93d",
   "metadata": {},
   "outputs": [
    {
     "data": {
      "image/png": "[encoded data removed]",
      "text/plain": [
       "<Figure size 1440x360 with 4 Axes>"
      ]
     },
     "metadata": {},
     "output_type": "display_data"
    }
   ],
   "source": [
    "sns.set()\n",
    "fig, axes = plt.subplots(n_rows, n_cols, figsize=(20,5))\n",
    "axes = axes.flatten()\n",
    "for item, ax in zip(items, axes):\n",
    "    ax=sns.barplot(data=df, x='Type', y=item, ax=ax)"
   ]
  },
  {
   "cell_type": "code",
   "execution_count": 91,
   "id": "645490b3",
   "metadata": {},
   "outputs": [
    {
     "data": {
      "image/png": "[encoded data removed]",
      "text/plain": [
       "<Figure size 1440x360 with 4 Axes>"
      ]
     },
     "metadata": {},
     "output_type": "display_data"
    }
   ],
   "source": [
    "sns.set()\n",
    "fig, axes = plt.subplots(n_rows, n_cols, figsize=(20,5))\n",
    "axes = axes.flatten()\n",
    "for item, ax in zip(items, axes):\n",
    "    ax=sns.histplot(data=df, x=item, ax=ax, kde=True)"
   ]
  },
  {
   "cell_type": "markdown",
   "id": "2d40db35",
   "metadata": {},
   "source": [
    "## Color columns standardization\n",
    "### There are in the spectral color columns some typo errors that needed to be treated. By analyzing the data we have for this column, we can simplify the total number of distinct colors. The gamma of colors were reduced to the following espectrum: Red, Blue, White, Yellow and Orange."
   ]
  },
  {
   "cell_type": "code",
   "execution_count": 92,
   "id": "64eedcce",
   "metadata": {
    "scrolled": true
   },
   "outputs": [
    {
     "data": {
      "text/plain": [
       "Red                   112\n",
       "Blue                   56\n",
       "Blue-white             26\n",
       "Blue White             10\n",
       "yellow-white            8\n",
       "White                   7\n",
       "Blue white              4\n",
       "white                   3\n",
       "Yellowish White         3\n",
       "yellowish               2\n",
       "Whitish                 2\n",
       "Orange                  2\n",
       "White-Yellow            1\n",
       "Pale yellow orange      1\n",
       "Yellowish               1\n",
       "Orange-Red              1\n",
       "Blue-White              1\n",
       "Name: Color, dtype: int64"
      ]
     },
     "execution_count": 92,
     "metadata": {},
     "output_type": "execute_result"
    }
   ],
   "source": [
    "df['Color'].value_counts()"
   ]
  },
  {
   "cell_type": "code",
   "execution_count": 96,
   "id": "48bd1eed",
   "metadata": {
    "scrolled": true
   },
   "outputs": [],
   "source": [
    "colors = {'Blue' : ['Blue', 'Blue-white', 'Blue White', 'Blue white', 'Blue-White'],\n",
    "          'Red' : ['Red'],\n",
    "          'Orange': ['Orange', 'Orange-Red'],\n",
    "          'Yellow' : ['yellow-white', 'Yellowish White', 'yellowish', 'Pale yellow orange', 'Yellowish'],\n",
    "          'White' : ['White', 'white', 'Whitish', 'White-Yellow']}\n",
    "keys = list(colors.keys())\n",
    "color_list = []\n",
    "\n",
    "for i in range(len(df['Color'])):\n",
    "    if df['Color'][i] in colors[keys[0]]:\n",
    "        color_list.append(keys[0])\n",
    "    elif df['Color'][i] in colors[keys[1]]:\n",
    "        color_list.append(keys[1])\n",
    "    elif df['Color'][i] in colors[keys[2]]:\n",
    "        color_list.append(keys[2])\n",
    "    elif df['Color'][i] in colors[keys[3]]:\n",
    "        color_list.append(keys[3])\n",
    "    elif df['Color'][i] in colors[keys[4]]:\n",
    "        color_list.append(keys[4])\n",
    "df.Color = color_list"
   ]
  },
  {
   "cell_type": "code",
   "execution_count": 97,
   "id": "19fb700b",
   "metadata": {},
   "outputs": [
    {
     "data": {
      "text/plain": [
       "Red       112\n",
       "Blue       97\n",
       "Yellow     15\n",
       "White      13\n",
       "Orange      3\n",
       "Name: Color, dtype: int64"
      ]
     },
     "execution_count": 97,
     "metadata": {},
     "output_type": "execute_result"
    }
   ],
   "source": [
    "df['Color'].value_counts()"
   ]
  },
  {
   "cell_type": "markdown",
   "id": "a47e654d",
   "metadata": {},
   "source": [
    "## Splitting train dataframe between X and y (target=Type)"
   ]
  },
  {
   "cell_type": "code",
   "execution_count": 98,
   "id": "647201b1",
   "metadata": {},
   "outputs": [],
   "source": [
    "X, y = df.drop('Type', axis='columns', inplace=False), df['Type']"
   ]
  },
  {
   "cell_type": "markdown",
   "id": "e81e1bfc",
   "metadata": {},
   "source": [
    "## Defining transformations and models\n",
    "### Transformations needed: One Hot Encoder and Standar Scaler\n",
    "### Models used: Naive Bayes, Random Forest Classifier and SVM"
   ]
  },
  {
   "cell_type": "code",
   "execution_count": 99,
   "id": "0138ae04",
   "metadata": {},
   "outputs": [],
   "source": [
    "ohe = OneHotEncoder(sparse=False, handle_unknown='ignore')\n",
    "ss = StandardScaler()\n",
    "svm = svm.SVC()\n",
    "naive_bayes = BernoulliNB(alpha=0, binarize=0.5, fit_prior=True)\n",
    "rfc = RandomForestClassifier(n_estimators=100, criterion='gini', max_depth=4, max_features='auto')\n",
    "ct = make_column_transformer((ohe, ['Color', 'Spectral_Class']), (ss, ['Temperature', 'L', 'R']))"
   ]
  },
  {
   "cell_type": "code",
   "execution_count": 100,
   "id": "bc24648b",
   "metadata": {},
   "outputs": [],
   "source": [
    "pipe1 = make_pipeline(ct, rfc)\n",
    "pipe2 = make_pipeline(ct, svm)\n",
    "pipe3 = make_pipeline(ct, naive_bayes)"
   ]
  },
  {
   "cell_type": "markdown",
   "id": "e61b63ea",
   "metadata": {},
   "source": [
    "## Train test split"
   ]
  },
  {
   "cell_type": "code",
   "execution_count": 101,
   "id": "616eb914",
   "metadata": {},
   "outputs": [],
   "source": [
    "X_train, X_test, Y_train, Y_test = train_test_split(X, y, test_size=0.2)"
   ]
  },
  {
   "cell_type": "code",
   "execution_count": 102,
   "id": "47f8b99a",
   "metadata": {},
   "outputs": [
    {
     "name": "stdout",
     "output_type": "stream",
     "text": [
      "<class 'pandas.core.frame.DataFrame'>\n",
      "Int64Index: 192 entries, 153 to 195\n",
      "Data columns (total 5 columns):\n",
      " #   Column          Non-Null Count  Dtype  \n",
      "---  ------          --------------  -----  \n",
      " 0   Temperature     192 non-null    int64  \n",
      " 1   L               192 non-null    float64\n",
      " 2   R               192 non-null    float64\n",
      " 3   Color           192 non-null    object \n",
      " 4   Spectral_Class  192 non-null    object \n",
      "dtypes: float64(2), int64(1), object(2)\n",
      "memory usage: 9.0+ KB\n"
     ]
    }
   ],
   "source": [
    "X_train.info()"
   ]
  },
  {
   "cell_type": "markdown",
   "id": "4aa6790d",
   "metadata": {},
   "source": [
    "## Defining a pipeline to apply through the models. First  the pipeline applies a columns transformer to the x_train and y_train data, one hot encoding the categorical columns and standard scaling numerical columns. Then the following model will be applied.\n",
    "### To validate the models we will first make predictions with the fitted model and then cross validate the model.\n",
    "### To help with the score visualization a confusion matrix will be plotted for each model."
   ]
  },
  {
   "cell_type": "code",
   "execution_count": 103,
   "id": "d09a7987",
   "metadata": {},
   "outputs": [
    {
     "name": "stderr",
     "output_type": "stream",
     "text": [
      "C:\\Users\\Sérgio\\envs\\guppe\\lib\\site-packages\\sklearn\\naive_bayes.py:555: UserWarning: alpha too small will result in numeric errors, setting alpha = 1.0e-10\n",
      "  warnings.warn(\n"
     ]
    },
    {
     "data": {
      "text/plain": [
       "Pipeline(steps=[('columntransformer',\n",
       "                 ColumnTransformer(transformers=[('onehotencoder',\n",
       "                                                  OneHotEncoder(handle_unknown='ignore',\n",
       "                                                                sparse=False),\n",
       "                                                  ['Color', 'Spectral_Class']),\n",
       "                                                 ('standardscaler',\n",
       "                                                  StandardScaler(),\n",
       "                                                  ['Temperature', 'L', 'R'])])),\n",
       "                ('bernoullinb', BernoulliNB(alpha=0, binarize=0.5))])"
      ]
     },
     "execution_count": 103,
     "metadata": {},
     "output_type": "execute_result"
    }
   ],
   "source": [
    "pipe1.fit(X_train, Y_train) # RandomForestClassifier\n",
    "pipe2.fit(X_train, Y_train) # SVM\n",
    "pipe3.fit(X_train, Y_train) # Naive-Bayes"
   ]
  },
  {
   "cell_type": "code",
   "execution_count": 104,
   "id": "85c040fa",
   "metadata": {
    "scrolled": true
   },
   "outputs": [
    {
     "data": {
      "text/plain": [
       "array([4, 2, 1, 1, 5, 3, 1, 4, 2, 0, 5, 0, 1, 0, 3, 2, 4, 5, 0, 4, 2, 0,\n",
       "       4, 2, 4, 5, 3, 5, 2, 0, 2, 5, 2, 4, 5, 4, 0, 4, 5, 5, 5, 4, 4, 4,\n",
       "       5, 4, 1, 0], dtype=int64)"
      ]
     },
     "execution_count": 104,
     "metadata": {},
     "output_type": "execute_result"
    }
   ],
   "source": [
    "pipe1.predict(X_test)"
   ]
  },
  {
   "cell_type": "code",
   "execution_count": 105,
   "id": "9e994b4a",
   "metadata": {
    "scrolled": true
   },
   "outputs": [
    {
     "data": {
      "text/plain": [
       "0.8910931174089068"
      ]
     },
     "execution_count": 105,
     "metadata": {},
     "output_type": "execute_result"
    }
   ],
   "source": [
    "cross_val_score(pipe1, X_train, Y_train, cv=5, scoring='accuracy').mean()"
   ]
  },
  {
   "cell_type": "code",
   "execution_count": 106,
   "id": "3ba1df10",
   "metadata": {},
   "outputs": [
    {
     "data": {
      "text/plain": [
       "<AxesSubplot:>"
      ]
     },
     "execution_count": 106,
     "metadata": {},
     "output_type": "execute_result"
    },
    {
     "data": {
      "image/png": "[encoded data removed]",
      "text/plain": [
       "<Figure size 432x288 with 2 Axes>"
      ]
     },
     "metadata": {},
     "output_type": "display_data"
    }
   ],
   "source": [
    "confusion = confusion_matrix(Y_test, pipe1.predict(X_test))\n",
    "sns.heatmap(confusion, annot=True)"
   ]
  },
  {
   "cell_type": "code",
   "execution_count": 107,
   "id": "ccc3393c",
   "metadata": {},
   "outputs": [
    {
     "data": {
      "text/plain": [
       "array([5, 3, 1, 1, 5, 3, 1, 4, 2, 1, 5, 1, 1, 1, 4, 2, 4, 5, 1, 4, 2, 1,\n",
       "       4, 3, 3, 5, 3, 5, 3, 1, 2, 5, 3, 4, 5, 3, 1, 4, 5, 5, 5, 4, 5, 4,\n",
       "       5, 4, 1, 1], dtype=int64)"
      ]
     },
     "execution_count": 107,
     "metadata": {},
     "output_type": "execute_result"
    }
   ],
   "source": [
    "pipe2.predict(X_test)"
   ]
  },
  {
   "cell_type": "code",
   "execution_count": 108,
   "id": "e30967a1",
   "metadata": {
    "scrolled": false
   },
   "outputs": [
    {
     "data": {
      "text/plain": [
       "0.7290148448043184"
      ]
     },
     "execution_count": 108,
     "metadata": {},
     "output_type": "execute_result"
    }
   ],
   "source": [
    "cross_val_score(pipe2, X_train, Y_train, cv=5, scoring='accuracy').mean()"
   ]
  },
  {
   "cell_type": "code",
   "execution_count": 109,
   "id": "9ac0f06b",
   "metadata": {
    "scrolled": true
   },
   "outputs": [
    {
     "data": {
      "text/plain": [
       "<AxesSubplot:>"
      ]
     },
     "execution_count": 109,
     "metadata": {},
     "output_type": "execute_result"
    },
    {
     "data": {
      "image/png": "[encoded data removed]",
      "text/plain": [
       "<Figure size 432x288 with 2 Axes>"
      ]
     },
     "metadata": {},
     "output_type": "display_data"
    }
   ],
   "source": [
    "confusion = confusion_matrix(Y_test, pipe2.predict(X_test))\n",
    "sns.heatmap(confusion, annot=True)"
   ]
  },
  {
   "cell_type": "code",
   "execution_count": 110,
   "id": "78ebf24a",
   "metadata": {
    "scrolled": true
   },
   "outputs": [
    {
     "data": {
      "text/plain": [
       "array([5, 3, 1, 1, 5, 3, 1, 4, 2, 1, 5, 1, 1, 1, 4, 2, 4, 5, 1, 4, 2, 1,\n",
       "       4, 3, 4, 5, 3, 5, 3, 1, 2, 5, 3, 4, 5, 4, 1, 4, 5, 5, 5, 4, 5, 4,\n",
       "       5, 4, 1, 1], dtype=int64)"
      ]
     },
     "execution_count": 110,
     "metadata": {},
     "output_type": "execute_result"
    }
   ],
   "source": [
    "pipe3.predict(X_test)"
   ]
  },
  {
   "cell_type": "code",
   "execution_count": 111,
   "id": "a6ae2e94",
   "metadata": {},
   "outputs": [
    {
     "name": "stderr",
     "output_type": "stream",
     "text": [
      "C:\\Users\\Sérgio\\envs\\guppe\\lib\\site-packages\\sklearn\\naive_bayes.py:555: UserWarning: alpha too small will result in numeric errors, setting alpha = 1.0e-10\n",
      "  warnings.warn(\n",
      "C:\\Users\\Sérgio\\envs\\guppe\\lib\\site-packages\\sklearn\\naive_bayes.py:555: UserWarning: alpha too small will result in numeric errors, setting alpha = 1.0e-10\n",
      "  warnings.warn(\n",
      "C:\\Users\\Sérgio\\envs\\guppe\\lib\\site-packages\\sklearn\\naive_bayes.py:555: UserWarning: alpha too small will result in numeric errors, setting alpha = 1.0e-10\n",
      "  warnings.warn(\n",
      "C:\\Users\\Sérgio\\envs\\guppe\\lib\\site-packages\\sklearn\\naive_bayes.py:555: UserWarning: alpha too small will result in numeric errors, setting alpha = 1.0e-10\n",
      "  warnings.warn(\n",
      "C:\\Users\\Sérgio\\envs\\guppe\\lib\\site-packages\\sklearn\\naive_bayes.py:555: UserWarning: alpha too small will result in numeric errors, setting alpha = 1.0e-10\n",
      "  warnings.warn(\n"
     ]
    },
    {
     "data": {
      "text/plain": [
       "0.6720647773279352"
      ]
     },
     "execution_count": 111,
     "metadata": {},
     "output_type": "execute_result"
    }
   ],
   "source": [
    "cross_val_score(pipe3, X_train, Y_train, cv=5, scoring='accuracy').mean()"
   ]
  },
  {
   "cell_type": "markdown",
   "id": "748c7152",
   "metadata": {},
   "source": [
    "## Analyzing cross-validated scores and choosing the best model.\n",
    "### The model that showed the best results was the Random Forest Classifier. Now we can work to tune the model via Hyper Paremeter Tunning using GridSearchCV\n"
   ]
  },
  {
   "cell_type": "code",
   "execution_count": 112,
   "id": "e15abdd7",
   "metadata": {
    "scrolled": false
   },
   "outputs": [
    {
     "data": {
      "text/plain": [
       "GridSearchCV(cv=5,\n",
       "             estimator=Pipeline(steps=[('columntransformer',\n",
       "                                        ColumnTransformer(transformers=[('onehotencoder',\n",
       "                                                                         OneHotEncoder(handle_unknown='ignore',\n",
       "                                                                                       sparse=False),\n",
       "                                                                         ['Color',\n",
       "                                                                          'Spectral_Class']),\n",
       "                                                                        ('standardscaler',\n",
       "                                                                         StandardScaler(),\n",
       "                                                                         ['Temperature',\n",
       "                                                                          'L',\n",
       "                                                                          'R'])])),\n",
       "                                       ('randomforestclassifier',\n",
       "                                        RandomForestClassifier(max_depth=4))]),\n",
       "             param_grid={'randomforestclassifier__criterion': ['gini',\n",
       "                                                               'entropy'],\n",
       "                         'randomforestclassifier__max_depth': [4, 5, 6, 7, 8],\n",
       "                         'randomforestclassifier__max_features': ['auto',\n",
       "                                                                  'sqrt',\n",
       "                                                                  'log2'],\n",
       "                         'randomforestclassifier__n_estimators': [100, 200,\n",
       "                                                                  500]},\n",
       "             scoring='accuracy')"
      ]
     },
     "execution_count": 112,
     "metadata": {},
     "output_type": "execute_result"
    }
   ],
   "source": [
    "param_grid = { \n",
    "    'randomforestclassifier__n_estimators': [100, 200, 500],\n",
    "    'randomforestclassifier__max_features': ['auto', 'sqrt', 'log2'],\n",
    "    'randomforestclassifier__max_depth' : [4,5,6,7,8],\n",
    "    'randomforestclassifier__criterion' :['gini', 'entropy']\n",
    "}\n",
    "grid = GridSearchCV(pipe1, param_grid, cv=5, scoring='accuracy')\n",
    "grid.fit(X_train, Y_train)"
   ]
  },
  {
   "cell_type": "code",
   "execution_count": 113,
   "id": "85f99e87",
   "metadata": {},
   "outputs": [
    {
     "data": {
      "text/plain": [
       "0.9483130904183534"
      ]
     },
     "execution_count": 113,
     "metadata": {},
     "output_type": "execute_result"
    }
   ],
   "source": [
    "grid.best_score_"
   ]
  },
  {
   "cell_type": "markdown",
   "id": "de79b005",
   "metadata": {},
   "source": [
    "### Getting the best parameter values from GridSearchCV"
   ]
  },
  {
   "cell_type": "code",
   "execution_count": 114,
   "id": "562ddc7b",
   "metadata": {},
   "outputs": [
    {
     "data": {
      "text/plain": [
       "{'randomforestclassifier__criterion': 'gini',\n",
       " 'randomforestclassifier__max_depth': 5,\n",
       " 'randomforestclassifier__max_features': 'auto',\n",
       " 'randomforestclassifier__n_estimators': 200}"
      ]
     },
     "execution_count": 114,
     "metadata": {},
     "output_type": "execute_result"
    }
   ],
   "source": [
    "grid.best_params_"
   ]
  },
  {
   "cell_type": "code",
   "execution_count": 115,
   "id": "1cc6e50d",
   "metadata": {},
   "outputs": [
    {
     "name": "stderr",
     "output_type": "stream",
     "text": [
      "C:\\Users\\Sérgio\\envs\\guppe\\lib\\site-packages\\sklearn\\naive_bayes.py:555: UserWarning: alpha too small will result in numeric errors, setting alpha = 1.0e-10\n",
      "  warnings.warn(\n",
      "C:\\Users\\Sérgio\\envs\\guppe\\lib\\site-packages\\sklearn\\naive_bayes.py:555: UserWarning: alpha too small will result in numeric errors, setting alpha = 1.0e-10\n",
      "  warnings.warn(\n",
      "C:\\Users\\Sérgio\\envs\\guppe\\lib\\site-packages\\sklearn\\naive_bayes.py:555: UserWarning: alpha too small will result in numeric errors, setting alpha = 1.0e-10\n",
      "  warnings.warn(\n",
      "C:\\Users\\Sérgio\\envs\\guppe\\lib\\site-packages\\sklearn\\naive_bayes.py:555: UserWarning: alpha too small will result in numeric errors, setting alpha = 1.0e-10\n",
      "  warnings.warn(\n",
      "C:\\Users\\Sérgio\\envs\\guppe\\lib\\site-packages\\sklearn\\naive_bayes.py:555: UserWarning: alpha too small will result in numeric errors, setting alpha = 1.0e-10\n",
      "  warnings.warn(\n",
      "C:\\Users\\Sérgio\\envs\\guppe\\lib\\site-packages\\sklearn\\naive_bayes.py:555: UserWarning: alpha too small will result in numeric errors, setting alpha = 1.0e-10\n",
      "  warnings.warn(\n",
      "C:\\Users\\Sérgio\\envs\\guppe\\lib\\site-packages\\sklearn\\naive_bayes.py:555: UserWarning: alpha too small will result in numeric errors, setting alpha = 1.0e-10\n",
      "  warnings.warn(\n",
      "C:\\Users\\Sérgio\\envs\\guppe\\lib\\site-packages\\sklearn\\naive_bayes.py:555: UserWarning: alpha too small will result in numeric errors, setting alpha = 1.0e-10\n",
      "  warnings.warn(\n",
      "C:\\Users\\Sérgio\\envs\\guppe\\lib\\site-packages\\sklearn\\naive_bayes.py:555: UserWarning: alpha too small will result in numeric errors, setting alpha = 1.0e-10\n",
      "  warnings.warn(\n",
      "C:\\Users\\Sérgio\\envs\\guppe\\lib\\site-packages\\sklearn\\naive_bayes.py:555: UserWarning: alpha too small will result in numeric errors, setting alpha = 1.0e-10\n",
      "  warnings.warn(\n",
      "C:\\Users\\Sérgio\\envs\\guppe\\lib\\site-packages\\sklearn\\naive_bayes.py:555: UserWarning: alpha too small will result in numeric errors, setting alpha = 1.0e-10\n",
      "  warnings.warn(\n",
      "C:\\Users\\Sérgio\\envs\\guppe\\lib\\site-packages\\sklearn\\naive_bayes.py:555: UserWarning: alpha too small will result in numeric errors, setting alpha = 1.0e-10\n",
      "  warnings.warn(\n",
      "C:\\Users\\Sérgio\\envs\\guppe\\lib\\site-packages\\sklearn\\naive_bayes.py:555: UserWarning: alpha too small will result in numeric errors, setting alpha = 1.0e-10\n",
      "  warnings.warn(\n",
      "C:\\Users\\Sérgio\\envs\\guppe\\lib\\site-packages\\sklearn\\naive_bayes.py:555: UserWarning: alpha too small will result in numeric errors, setting alpha = 1.0e-10\n",
      "  warnings.warn(\n",
      "C:\\Users\\Sérgio\\envs\\guppe\\lib\\site-packages\\sklearn\\naive_bayes.py:555: UserWarning: alpha too small will result in numeric errors, setting alpha = 1.0e-10\n",
      "  warnings.warn(\n",
      "C:\\Users\\Sérgio\\envs\\guppe\\lib\\site-packages\\sklearn\\naive_bayes.py:555: UserWarning: alpha too small will result in numeric errors, setting alpha = 1.0e-10\n",
      "  warnings.warn(\n",
      "C:\\Users\\Sérgio\\envs\\guppe\\lib\\site-packages\\sklearn\\naive_bayes.py:555: UserWarning: alpha too small will result in numeric errors, setting alpha = 1.0e-10\n",
      "  warnings.warn(\n",
      "C:\\Users\\Sérgio\\envs\\guppe\\lib\\site-packages\\sklearn\\naive_bayes.py:555: UserWarning: alpha too small will result in numeric errors, setting alpha = 1.0e-10\n",
      "  warnings.warn(\n",
      "C:\\Users\\Sérgio\\envs\\guppe\\lib\\site-packages\\sklearn\\naive_bayes.py:555: UserWarning: alpha too small will result in numeric errors, setting alpha = 1.0e-10\n",
      "  warnings.warn(\n",
      "C:\\Users\\Sérgio\\envs\\guppe\\lib\\site-packages\\sklearn\\naive_bayes.py:555: UserWarning: alpha too small will result in numeric errors, setting alpha = 1.0e-10\n",
      "  warnings.warn(\n",
      "C:\\Users\\Sérgio\\envs\\guppe\\lib\\site-packages\\sklearn\\naive_bayes.py:555: UserWarning: alpha too small will result in numeric errors, setting alpha = 1.0e-10\n",
      "  warnings.warn(\n",
      "C:\\Users\\Sérgio\\envs\\guppe\\lib\\site-packages\\sklearn\\naive_bayes.py:555: UserWarning: alpha too small will result in numeric errors, setting alpha = 1.0e-10\n",
      "  warnings.warn(\n",
      "C:\\Users\\Sérgio\\envs\\guppe\\lib\\site-packages\\sklearn\\naive_bayes.py:555: UserWarning: alpha too small will result in numeric errors, setting alpha = 1.0e-10\n",
      "  warnings.warn(\n",
      "C:\\Users\\Sérgio\\envs\\guppe\\lib\\site-packages\\sklearn\\naive_bayes.py:555: UserWarning: alpha too small will result in numeric errors, setting alpha = 1.0e-10\n",
      "  warnings.warn(\n",
      "C:\\Users\\Sérgio\\envs\\guppe\\lib\\site-packages\\sklearn\\naive_bayes.py:555: UserWarning: alpha too small will result in numeric errors, setting alpha = 1.0e-10\n",
      "  warnings.warn(\n",
      "C:\\Users\\Sérgio\\envs\\guppe\\lib\\site-packages\\sklearn\\naive_bayes.py:555: UserWarning: alpha too small will result in numeric errors, setting alpha = 1.0e-10\n",
      "  warnings.warn(\n",
      "C:\\Users\\Sérgio\\envs\\guppe\\lib\\site-packages\\sklearn\\naive_bayes.py:555: UserWarning: alpha too small will result in numeric errors, setting alpha = 1.0e-10\n",
      "  warnings.warn(\n",
      "C:\\Users\\Sérgio\\envs\\guppe\\lib\\site-packages\\sklearn\\naive_bayes.py:555: UserWarning: alpha too small will result in numeric errors, setting alpha = 1.0e-10\n",
      "  warnings.warn(\n",
      "C:\\Users\\Sérgio\\envs\\guppe\\lib\\site-packages\\sklearn\\naive_bayes.py:555: UserWarning: alpha too small will result in numeric errors, setting alpha = 1.0e-10\n",
      "  warnings.warn(\n",
      "C:\\Users\\Sérgio\\envs\\guppe\\lib\\site-packages\\sklearn\\naive_bayes.py:555: UserWarning: alpha too small will result in numeric errors, setting alpha = 1.0e-10\n",
      "  warnings.warn(\n",
      "C:\\Users\\Sérgio\\envs\\guppe\\lib\\site-packages\\sklearn\\naive_bayes.py:555: UserWarning: alpha too small will result in numeric errors, setting alpha = 1.0e-10\n",
      "  warnings.warn(\n",
      "C:\\Users\\Sérgio\\envs\\guppe\\lib\\site-packages\\sklearn\\naive_bayes.py:1168: RuntimeWarning: invalid value encountered in log\n",
      "  self.feature_log_prob_ = np.log(smoothed_fc) - np.log(\n",
      "C:\\Users\\Sérgio\\envs\\guppe\\lib\\site-packages\\sklearn\\naive_bayes.py:1183: RuntimeWarning: invalid value encountered in log\n",
      "  neg_prob = np.log(1 - np.exp(self.feature_log_prob_))\n",
      "C:\\Users\\Sérgio\\envs\\guppe\\lib\\site-packages\\sklearn\\naive_bayes.py:555: UserWarning: alpha too small will result in numeric errors, setting alpha = 1.0e-10\n",
      "  warnings.warn(\n",
      "C:\\Users\\Sérgio\\envs\\guppe\\lib\\site-packages\\sklearn\\naive_bayes.py:1168: RuntimeWarning: invalid value encountered in log\n",
      "  self.feature_log_prob_ = np.log(smoothed_fc) - np.log(\n",
      "C:\\Users\\Sérgio\\envs\\guppe\\lib\\site-packages\\sklearn\\naive_bayes.py:1183: RuntimeWarning: invalid value encountered in log\n",
      "  neg_prob = np.log(1 - np.exp(self.feature_log_prob_))\n",
      "C:\\Users\\Sérgio\\envs\\guppe\\lib\\site-packages\\sklearn\\naive_bayes.py:555: UserWarning: alpha too small will result in numeric errors, setting alpha = 1.0e-10\n",
      "  warnings.warn(\n",
      "C:\\Users\\Sérgio\\envs\\guppe\\lib\\site-packages\\sklearn\\naive_bayes.py:1168: RuntimeWarning: invalid value encountered in log\n",
      "  self.feature_log_prob_ = np.log(smoothed_fc) - np.log(\n",
      "C:\\Users\\Sérgio\\envs\\guppe\\lib\\site-packages\\sklearn\\naive_bayes.py:1183: RuntimeWarning: invalid value encountered in log\n",
      "  neg_prob = np.log(1 - np.exp(self.feature_log_prob_))\n",
      "C:\\Users\\Sérgio\\envs\\guppe\\lib\\site-packages\\sklearn\\naive_bayes.py:555: UserWarning: alpha too small will result in numeric errors, setting alpha = 1.0e-10\n",
      "  warnings.warn(\n",
      "C:\\Users\\Sérgio\\envs\\guppe\\lib\\site-packages\\sklearn\\naive_bayes.py:1168: RuntimeWarning: invalid value encountered in log\n",
      "  self.feature_log_prob_ = np.log(smoothed_fc) - np.log(\n",
      "C:\\Users\\Sérgio\\envs\\guppe\\lib\\site-packages\\sklearn\\naive_bayes.py:1183: RuntimeWarning: invalid value encountered in log\n",
      "  neg_prob = np.log(1 - np.exp(self.feature_log_prob_))\n",
      "C:\\Users\\Sérgio\\envs\\guppe\\lib\\site-packages\\sklearn\\naive_bayes.py:555: UserWarning: alpha too small will result in numeric errors, setting alpha = 1.0e-10\n",
      "  warnings.warn(\n",
      "C:\\Users\\Sérgio\\envs\\guppe\\lib\\site-packages\\sklearn\\naive_bayes.py:1168: RuntimeWarning: invalid value encountered in log\n",
      "  self.feature_log_prob_ = np.log(smoothed_fc) - np.log(\n",
      "C:\\Users\\Sérgio\\envs\\guppe\\lib\\site-packages\\sklearn\\naive_bayes.py:1183: RuntimeWarning: invalid value encountered in log\n",
      "  neg_prob = np.log(1 - np.exp(self.feature_log_prob_))\n",
      "C:\\Users\\Sérgio\\envs\\guppe\\lib\\site-packages\\sklearn\\naive_bayes.py:555: UserWarning: alpha too small will result in numeric errors, setting alpha = 1.0e-10\n",
      "  warnings.warn(\n",
      "C:\\Users\\Sérgio\\envs\\guppe\\lib\\site-packages\\sklearn\\naive_bayes.py:1168: RuntimeWarning: invalid value encountered in log\n",
      "  self.feature_log_prob_ = np.log(smoothed_fc) - np.log(\n",
      "C:\\Users\\Sérgio\\envs\\guppe\\lib\\site-packages\\sklearn\\naive_bayes.py:1183: RuntimeWarning: invalid value encountered in log\n",
      "  neg_prob = np.log(1 - np.exp(self.feature_log_prob_))\n",
      "C:\\Users\\Sérgio\\envs\\guppe\\lib\\site-packages\\sklearn\\naive_bayes.py:555: UserWarning: alpha too small will result in numeric errors, setting alpha = 1.0e-10\n",
      "  warnings.warn(\n",
      "C:\\Users\\Sérgio\\envs\\guppe\\lib\\site-packages\\sklearn\\naive_bayes.py:1168: RuntimeWarning: invalid value encountered in log\n",
      "  self.feature_log_prob_ = np.log(smoothed_fc) - np.log(\n",
      "C:\\Users\\Sérgio\\envs\\guppe\\lib\\site-packages\\sklearn\\naive_bayes.py:1183: RuntimeWarning: invalid value encountered in log\n",
      "  neg_prob = np.log(1 - np.exp(self.feature_log_prob_))\n",
      "C:\\Users\\Sérgio\\envs\\guppe\\lib\\site-packages\\sklearn\\naive_bayes.py:555: UserWarning: alpha too small will result in numeric errors, setting alpha = 1.0e-10\n",
      "  warnings.warn(\n",
      "C:\\Users\\Sérgio\\envs\\guppe\\lib\\site-packages\\sklearn\\naive_bayes.py:1168: RuntimeWarning: invalid value encountered in log\n",
      "  self.feature_log_prob_ = np.log(smoothed_fc) - np.log(\n",
      "C:\\Users\\Sérgio\\envs\\guppe\\lib\\site-packages\\sklearn\\naive_bayes.py:1183: RuntimeWarning: invalid value encountered in log\n",
      "  neg_prob = np.log(1 - np.exp(self.feature_log_prob_))\n"
     ]
    },
    {
     "name": "stderr",
     "output_type": "stream",
     "text": [
      "C:\\Users\\Sérgio\\envs\\guppe\\lib\\site-packages\\sklearn\\naive_bayes.py:555: UserWarning: alpha too small will result in numeric errors, setting alpha = 1.0e-10\n",
      "  warnings.warn(\n",
      "C:\\Users\\Sérgio\\envs\\guppe\\lib\\site-packages\\sklearn\\naive_bayes.py:1168: RuntimeWarning: invalid value encountered in log\n",
      "  self.feature_log_prob_ = np.log(smoothed_fc) - np.log(\n",
      "C:\\Users\\Sérgio\\envs\\guppe\\lib\\site-packages\\sklearn\\naive_bayes.py:1183: RuntimeWarning: invalid value encountered in log\n",
      "  neg_prob = np.log(1 - np.exp(self.feature_log_prob_))\n",
      "C:\\Users\\Sérgio\\envs\\guppe\\lib\\site-packages\\sklearn\\naive_bayes.py:555: UserWarning: alpha too small will result in numeric errors, setting alpha = 1.0e-10\n",
      "  warnings.warn(\n",
      "C:\\Users\\Sérgio\\envs\\guppe\\lib\\site-packages\\sklearn\\naive_bayes.py:1168: RuntimeWarning: invalid value encountered in log\n",
      "  self.feature_log_prob_ = np.log(smoothed_fc) - np.log(\n",
      "C:\\Users\\Sérgio\\envs\\guppe\\lib\\site-packages\\sklearn\\naive_bayes.py:1183: RuntimeWarning: invalid value encountered in log\n",
      "  neg_prob = np.log(1 - np.exp(self.feature_log_prob_))\n",
      "C:\\Users\\Sérgio\\envs\\guppe\\lib\\site-packages\\sklearn\\naive_bayes.py:1168: RuntimeWarning: invalid value encountered in log\n",
      "  self.feature_log_prob_ = np.log(smoothed_fc) - np.log(\n",
      "C:\\Users\\Sérgio\\envs\\guppe\\lib\\site-packages\\sklearn\\naive_bayes.py:1183: RuntimeWarning: invalid value encountered in log\n",
      "  neg_prob = np.log(1 - np.exp(self.feature_log_prob_))\n",
      "C:\\Users\\Sérgio\\envs\\guppe\\lib\\site-packages\\sklearn\\naive_bayes.py:1168: RuntimeWarning: invalid value encountered in log\n",
      "  self.feature_log_prob_ = np.log(smoothed_fc) - np.log(\n",
      "C:\\Users\\Sérgio\\envs\\guppe\\lib\\site-packages\\sklearn\\naive_bayes.py:1183: RuntimeWarning: invalid value encountered in log\n",
      "  neg_prob = np.log(1 - np.exp(self.feature_log_prob_))\n",
      "C:\\Users\\Sérgio\\envs\\guppe\\lib\\site-packages\\sklearn\\naive_bayes.py:1168: RuntimeWarning: invalid value encountered in log\n",
      "  self.feature_log_prob_ = np.log(smoothed_fc) - np.log(\n",
      "C:\\Users\\Sérgio\\envs\\guppe\\lib\\site-packages\\sklearn\\naive_bayes.py:1183: RuntimeWarning: invalid value encountered in log\n",
      "  neg_prob = np.log(1 - np.exp(self.feature_log_prob_))\n",
      "C:\\Users\\Sérgio\\envs\\guppe\\lib\\site-packages\\sklearn\\naive_bayes.py:1168: RuntimeWarning: invalid value encountered in log\n",
      "  self.feature_log_prob_ = np.log(smoothed_fc) - np.log(\n",
      "C:\\Users\\Sérgio\\envs\\guppe\\lib\\site-packages\\sklearn\\naive_bayes.py:1183: RuntimeWarning: invalid value encountered in log\n",
      "  neg_prob = np.log(1 - np.exp(self.feature_log_prob_))\n",
      "C:\\Users\\Sérgio\\envs\\guppe\\lib\\site-packages\\sklearn\\naive_bayes.py:1168: RuntimeWarning: invalid value encountered in log\n",
      "  self.feature_log_prob_ = np.log(smoothed_fc) - np.log(\n",
      "C:\\Users\\Sérgio\\envs\\guppe\\lib\\site-packages\\sklearn\\naive_bayes.py:1183: RuntimeWarning: invalid value encountered in log\n",
      "  neg_prob = np.log(1 - np.exp(self.feature_log_prob_))\n",
      "C:\\Users\\Sérgio\\envs\\guppe\\lib\\site-packages\\sklearn\\naive_bayes.py:1168: RuntimeWarning: invalid value encountered in log\n",
      "  self.feature_log_prob_ = np.log(smoothed_fc) - np.log(\n",
      "C:\\Users\\Sérgio\\envs\\guppe\\lib\\site-packages\\sklearn\\naive_bayes.py:1183: RuntimeWarning: invalid value encountered in log\n",
      "  neg_prob = np.log(1 - np.exp(self.feature_log_prob_))\n",
      "C:\\Users\\Sérgio\\envs\\guppe\\lib\\site-packages\\sklearn\\naive_bayes.py:1168: RuntimeWarning: invalid value encountered in log\n",
      "  self.feature_log_prob_ = np.log(smoothed_fc) - np.log(\n",
      "C:\\Users\\Sérgio\\envs\\guppe\\lib\\site-packages\\sklearn\\naive_bayes.py:1183: RuntimeWarning: invalid value encountered in log\n",
      "  neg_prob = np.log(1 - np.exp(self.feature_log_prob_))\n",
      "C:\\Users\\Sérgio\\envs\\guppe\\lib\\site-packages\\sklearn\\naive_bayes.py:1168: RuntimeWarning: invalid value encountered in log\n",
      "  self.feature_log_prob_ = np.log(smoothed_fc) - np.log(\n",
      "C:\\Users\\Sérgio\\envs\\guppe\\lib\\site-packages\\sklearn\\naive_bayes.py:1183: RuntimeWarning: invalid value encountered in log\n",
      "  neg_prob = np.log(1 - np.exp(self.feature_log_prob_))\n",
      "C:\\Users\\Sérgio\\envs\\guppe\\lib\\site-packages\\sklearn\\naive_bayes.py:1168: RuntimeWarning: invalid value encountered in log\n",
      "  self.feature_log_prob_ = np.log(smoothed_fc) - np.log(\n",
      "C:\\Users\\Sérgio\\envs\\guppe\\lib\\site-packages\\sklearn\\naive_bayes.py:1183: RuntimeWarning: invalid value encountered in log\n",
      "  neg_prob = np.log(1 - np.exp(self.feature_log_prob_))\n",
      "C:\\Users\\Sérgio\\envs\\guppe\\lib\\site-packages\\sklearn\\naive_bayes.py:1168: RuntimeWarning: invalid value encountered in log\n",
      "  self.feature_log_prob_ = np.log(smoothed_fc) - np.log(\n",
      "C:\\Users\\Sérgio\\envs\\guppe\\lib\\site-packages\\sklearn\\naive_bayes.py:1183: RuntimeWarning: invalid value encountered in log\n",
      "  neg_prob = np.log(1 - np.exp(self.feature_log_prob_))\n",
      "C:\\Users\\Sérgio\\envs\\guppe\\lib\\site-packages\\sklearn\\naive_bayes.py:555: UserWarning: alpha too small will result in numeric errors, setting alpha = 1.0e-10\n",
      "  warnings.warn(\n"
     ]
    },
    {
     "data": {
      "text/plain": [
       "GridSearchCV(cv=5,\n",
       "             estimator=Pipeline(steps=[('columntransformer',\n",
       "                                        ColumnTransformer(transformers=[('onehotencoder',\n",
       "                                                                         OneHotEncoder(handle_unknown='ignore',\n",
       "                                                                                       sparse=False),\n",
       "                                                                         ['Color',\n",
       "                                                                          'Spectral_Class']),\n",
       "                                                                        ('standardscaler',\n",
       "                                                                         StandardScaler(),\n",
       "                                                                         ['Temperature',\n",
       "                                                                          'L',\n",
       "                                                                          'R'])])),\n",
       "                                       ('bernoullinb',\n",
       "                                        BernoulliNB(alpha=0, binarize=0.5))]),\n",
       "             param_grid={'bernoullinb__alpha': [0, 1],\n",
       "                         'bernoullinb__binarize': [0, 0.5, 1, None],\n",
       "                         'bernoullinb__fit_prior': [True, False]},\n",
       "             scoring='accuracy')"
      ]
     },
     "execution_count": 115,
     "metadata": {},
     "output_type": "execute_result"
    }
   ],
   "source": [
    "param_grid = { \n",
    "    'bernoullinb__alpha': [0, 1],\n",
    "    'bernoullinb__binarize': [0, 0.5, 1, None],\n",
    "    'bernoullinb__fit_prior' : [True, False]\n",
    "}\n",
    "grid2 = GridSearchCV(pipe3, param_grid, cv=5, scoring='accuracy')\n",
    "grid2.fit(X_train, Y_train)"
   ]
  },
  {
   "cell_type": "code",
   "execution_count": 116,
   "id": "f7193c88",
   "metadata": {},
   "outputs": [
    {
     "data": {
      "text/plain": [
       "0.6821862348178136"
      ]
     },
     "execution_count": 116,
     "metadata": {},
     "output_type": "execute_result"
    }
   ],
   "source": [
    "grid2.best_score_"
   ]
  },
  {
   "cell_type": "code",
   "execution_count": 117,
   "id": "24fbc762",
   "metadata": {},
   "outputs": [
    {
     "data": {
      "text/plain": [
       "{'bernoullinb__alpha': 0,\n",
       " 'bernoullinb__binarize': 0,\n",
       " 'bernoullinb__fit_prior': True}"
      ]
     },
     "execution_count": 117,
     "metadata": {},
     "output_type": "execute_result"
    }
   ],
   "source": [
    "grid2.best_params_"
   ]
  },
  {
   "cell_type": "code",
   "execution_count": null,
   "id": "6339687a",
   "metadata": {},
   "outputs": [],
   "source": []
  }
 ],
 "metadata": {
  "kernelspec": {
   "display_name": "Python 3 (ipykernel)",
   "language": "python",
   "name": "python3"
  },
  "language_info": {
   "codemirror_mode": {
    "name": "ipython",
    "version": 3
   },
   "file_extension": ".py",
   "mimetype": "text/x-python",
   "name": "python",
   "nbconvert_exporter": "python",
   "pygments_lexer": "ipython3",
   "version": "3.10.4"
  }
 },
 "nbformat": 4,
 "nbformat_minor": 5
}
