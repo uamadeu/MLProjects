{
 "cells": [
  {
   "cell_type": "code",
   "execution_count": 37,
   "id": "ea1d1574",
   "metadata": {},
   "outputs": [],
   "source": [
    "import requests\n",
    "import numpy as np\n",
    "import pandas as pd\n",
    "import matplotlib.pyplot as plt\n",
    "from bs4 import BeautifulSoup\n",
    "import seaborn as sns"
   ]
  },
  {
   "cell_type": "code",
   "execution_count": 38,
   "id": "bb09ae03",
   "metadata": {},
   "outputs": [],
   "source": [
    "def add_value_labels(ax, spacing=5):\n",
    "    # Função adaptada do Stak Oveflow no link: https://stackoverflow.com/questions/28931224/how-to-add-value-labels-on-a-bar-chart\n",
    "    # Esta função adiciona os value labels acima da barra no gráfico abaixo\n",
    "\n",
    "    \"\"\"Add labels to the end of each bar in a bar chart.\n",
    "\n",
    "    Arguments:\n",
    "        ax (matplotlib.axes.Axes): The matplotlib object containing the axes\n",
    "            of the plot to annotate.\n",
    "        spacing (int): The distance between the labels and the bars.\n",
    "    \"\"\"\n",
    "\n",
    "    # For each bar: Place a label\n",
    "    for rect in ax.patches:\n",
    "        # Get X and Y placement of label from rect.\n",
    "        y_value = rect.get_height()\n",
    "        x_value = rect.get_x() + rect.get_width() / 2\n",
    "\n",
    "        # Number of points between bar and label. Change to your liking.\n",
    "        space = spacing\n",
    "        # Vertical alignment for positive values\n",
    "        va = 'bottom'\n",
    "\n",
    "        # If value of bar is negative: Place label below bar\n",
    "        if y_value < 0:\n",
    "            # Invert space to place label below\n",
    "            space *= -1\n",
    "            # Vertically align label at top\n",
    "            va = 'top'\n",
    "\n",
    "        # Use Y value as label and format number with one decimal place\n",
    "        label = \"{:.2f}\".format(y_value)\n",
    "\n",
    "        # Create annotation\n",
    "        ax.annotate(\n",
    "            label,                      # Use `label` as label\n",
    "            (x_value, y_value),         # Place label at end of the bar\n",
    "            xytext=(0, space),          # Vertically shift label by `space`\n",
    "            textcoords=\"offset points\", # Interpret `xytext` as offset in points\n",
    "            ha='center',                # Horizontally center label\n",
    "            va=va)                      # Vertically align label differently for\n",
    "                                        # positive and negative values.\n",
    "            \n",
    "            \n",
    "def get_rate(df, season):\n",
    "    return BreakingBad.loc[(df.Season==season) & (df.EpisodeNumber==SeasonLength[season]), 'Rate'].values[0]"
   ]
  },
  {
   "cell_type": "code",
   "execution_count": 39,
   "id": "8da635eb",
   "metadata": {},
   "outputs": [
    {
     "data": {
      "text/plain": [
       "['1', '2', '3', '4', '5']"
      ]
     },
     "execution_count": 39,
     "metadata": {},
     "output_type": "execute_result"
    }
   ],
   "source": [
    "link = 'https://www.imdb.com/title/tt0903747/episodes?season='\n",
    "season_n = [str(idx) for idx in range(1, 6)]\n",
    "season_n"
   ]
  },
  {
   "cell_type": "code",
   "execution_count": 40,
   "id": "5c008426",
   "metadata": {},
   "outputs": [
    {
     "data": {
      "text/plain": [
       "['https://www.imdb.com/title/tt0903747/episodes?season=1',\n",
       " 'https://www.imdb.com/title/tt0903747/episodes?season=2',\n",
       " 'https://www.imdb.com/title/tt0903747/episodes?season=3',\n",
       " 'https://www.imdb.com/title/tt0903747/episodes?season=4',\n",
       " 'https://www.imdb.com/title/tt0903747/episodes?season=5']"
      ]
     },
     "execution_count": 40,
     "metadata": {},
     "output_type": "execute_result"
    }
   ],
   "source": [
    "url = [link + idx for idx in season_n]\n",
    "url"
   ]
  },
  {
   "cell_type": "markdown",
   "id": "c47681a2",
   "metadata": {},
   "source": [
    "# Copy"
   ]
  },
  {
   "cell_type": "code",
   "execution_count": 41,
   "id": "991f869c",
   "metadata": {},
   "outputs": [],
   "source": [
    "SeasonLength = {1: 7, 2: 13, 3: 13, 4: 13, 5: 16}"
   ]
  },
  {
   "cell_type": "code",
   "execution_count": 42,
   "id": "6a7a521f",
   "metadata": {},
   "outputs": [
    {
     "name": "stdout",
     "output_type": "stream",
     "text": [
      "Wall time: 6.99 s\n"
     ]
    }
   ],
   "source": [
    "%%time\n",
    "season_dict = {}\n",
    "get_off = ['', '0', '1', '2', '3', '4', '5', '6', '7', '8', '9', '10', '0', 'Rate', 'Error: please try again.']\n",
    "\n",
    "for sea, page in enumerate(url):\n",
    "    search = requests.get(page)\n",
    "    soup = BeautifulSoup(search.content, 'html.parser')\n",
    "    results = soup.find(id='episodes_content')\n",
    "    releases = results.find_all('div', class_='info')\n",
    "    cleaned_releases = []\n",
    "    \n",
    "    for idx, release in enumerate(releases):\n",
    "        release_text = release.text.strip().split('\\n')\n",
    "        for element in release_text:\n",
    "            cleaned_element = ' '.join(element.strip().split())\n",
    "            if cleaned_element not in get_off:\n",
    "                cleaned_releases.append(cleaned_element)\n",
    "                \n",
    "    season = np.array_split(cleaned_releases, SeasonLength[sea + 1])          \n",
    "    season_dict[sea + 1] = season"
   ]
  },
  {
   "cell_type": "code",
   "execution_count": 43,
   "id": "99bd85c5",
   "metadata": {
    "scrolled": false
   },
   "outputs": [
    {
     "data": {
      "text/plain": [
       "[array(['15 Jul. 2012', 'Live Free or Die', '9.2', '(29,755)',\n",
       "        'Now that Gus is dead, Walt, Jesse, and Mike work to cover their tracks. Skyler panics when Ted Beneke wakes up.'],\n",
       "       dtype='<U217'),\n",
       " array(['22 Jul. 2012', 'Madrigal', '8.8', '(25,861)',\n",
       "        'Walt and Jesse seek out an unlikely partner for a new business venture. The DEA follows up new leads in its investigation.'],\n",
       "       dtype='<U217'),\n",
       " array(['29 Jul. 2012', 'Hazard Pay', '8.8', '(25,281)',\n",
       "        'The guys put a business plan into action; Walt confesses to Marie.'],\n",
       "       dtype='<U217'),\n",
       " array(['5 Aug. 2012', 'Fifty-One', '8.8', '(25,464)',\n",
       "        \"It's Walt's 51st birthday. His return to the drug business causes Skyler to go into depression.\"],\n",
       "       dtype='<U217'),\n",
       " array(['12 Aug. 2012', 'Dead Freight', '9.7', '(36,912)',\n",
       "        \"Walter White's domestic life continues to deteriorate; at the same time, his growing business venture aims to steal a train car chock full of methylamine.\"],\n",
       "       dtype='<U217'),\n",
       " array(['19 Aug. 2012', 'Buyout', '9.0', '(25,934)',\n",
       "        'In the aftermath of the train heist, Jesse and Mike decide to quit the business, leaving Walt to handle things on his own. Mike is being followed by the DEA.'],\n",
       "       dtype='<U217'),\n",
       " array(['26 Aug. 2012', 'Say My Name', '9.5', '(33,518)',\n",
       "        \"Mike and Jesse are out. Now Walt has to handle things on his own. Hank finally finds a rat in Mike's gang.\"],\n",
       "       dtype='<U217'),\n",
       " array(['2 Sep. 2012', 'Gliding Over All', '9.6', '(33,150)',\n",
       "        'Walt expands his business overseas, and the money is pouring in.'],\n",
       "       dtype='<U217'),\n",
       " array(['11 Aug. 2013', 'Blood Money', '9.4', '(31,706)',\n",
       "        'Walt is out of the meth business and trying to move on with his life. Jesse tries to get rid of his money. Hank now knows that Walt is the famous Heisenberg.'],\n",
       "       dtype='<U217'),\n",
       " array(['18 Aug. 2013', 'Buried', '9.2', '(28,245)',\n",
       "        'Hank is determined to bring down Walt. Walt scrambles to hide evidence before Hank gets to it, and Skyler tries to stop Hank and Marie from taking away the kids.'],\n",
       "       dtype='<U217'),\n",
       " array(['25 Aug. 2013', 'Confessions', '9.6', '(33,970)',\n",
       "        \"Walt makes his next move against Hank, putting Hank in a tough position. Hank confronts Jesse and attempts to turn him against Walt, and Jesse decides it's time to move on. Meanwhile, Todd has taken over the business.\"],\n",
       "       dtype='<U217'),\n",
       " array(['1 Sep. 2013', 'Rabid Dog', '9.1', '(29,499)',\n",
       "        'Walt discovers Jesse broke into his house and attempted to burn it down. Walt wants to protect his family so he moves them into a hotel for a few nights. Jesse makes plans to take down Walt.'],\n",
       "       dtype='<U217'),\n",
       " array(['8 Sep. 2013', \"To'hajiilee\", '9.8', '(50,035)',\n",
       "        \"Jesse and Hank come up with an idea to take Walt down. Walt hires Todd's uncle to kill Jesse.\"],\n",
       "       dtype='<U217'),\n",
       " array(['15 Sep. 2013', 'Ozymandias', '10.0', '(197,290)',\n",
       "        'Walt goes on the run. Jesse is taken hostage. Marie convinces Skyler to tell Walter, Jr. the truth.'],\n",
       "       dtype='<U217'),\n",
       " array(['22 Sep. 2013', 'Granite State', '9.7', '(49,127)',\n",
       "        'Walt struggles as he adapts to aspects of his new identity. Jesse plans an escape against Jack and his crew.'],\n",
       "       dtype='<U217'),\n",
       " array(['29 Sep. 2013', 'Felina', '9.9', '(129,209)',\n",
       "        \"Walter White makes one last attempt to secure his family's future, while also visiting some old enemies, during his final return to Albuquerque.\"],\n",
       "       dtype='<U217')]"
      ]
     },
     "execution_count": 43,
     "metadata": {},
     "output_type": "execute_result"
    }
   ],
   "source": [
    "season"
   ]
  },
  {
   "cell_type": "code",
   "execution_count": 44,
   "id": "98740942",
   "metadata": {},
   "outputs": [],
   "source": [
    "dataframes = {}\n",
    "for key in season_dict.keys():\n",
    "    df = pd.DataFrame(season_dict[key], columns=['ReleaseDate', 'EpisodeName', 'Rate', 'Votes', 'EpisodeDescription'])\n",
    "    df['EpisodeNumber'] = np.arange(1, SeasonLength[key] + 1)\n",
    "    df['Season'] = key\n",
    "    dataframes[key] = df"
   ]
  },
  {
   "cell_type": "code",
   "execution_count": 45,
   "id": "31c6eeb3",
   "metadata": {},
   "outputs": [
    {
     "data": {
      "text/plain": [
       "{1:     ReleaseDate                    EpisodeName Rate     Votes  \\\n",
       " 0  20 Jan. 2008                          Pilot  9.0  (39,347)   \n",
       " 1  27 Jan. 2008            Cat's in the Bag...  8.6  (28,690)   \n",
       " 2  10 Feb. 2008  ...And the Bag's in the River  8.7  (27,787)   \n",
       " 3  17 Feb. 2008                     Cancer Man  8.2  (26,785)   \n",
       " 4  24 Feb. 2008                    Gray Matter  8.3  (26,320)   \n",
       " 5   2 Mar. 2008       Crazy Handful of Nothin'  9.3  (30,959)   \n",
       " 6   9 Mar. 2008     A No-Rough-Stuff-Type Deal  8.8  (26,821)   \n",
       " \n",
       "                                   EpisodeDescription  EpisodeNumber  Season  \n",
       " 0  Diagnosed with terminal lung cancer, chemistry...              1       1  \n",
       " 1  After their first drug deal goes terribly wron...              2       1  \n",
       " 2  Walt and Jesse clean up after the bathtub inci...              3       1  \n",
       " 3  Walt tells the rest of his family about his ca...              4       1  \n",
       " 4  Walt rejects everyone who tries to help him wi...              5       1  \n",
       " 5  With the side effects and cost of his treatmen...              6       1  \n",
       " 6  Walt and Jesse try to up their game by making ...              7       1  ,\n",
       " 2:      ReleaseDate         EpisodeName Rate     Votes  \\\n",
       " 0    8 Mar. 2009  Seven Thirty-Seven  8.6  (24,340)   \n",
       " 1   15 Mar. 2009             Grilled  9.3  (27,948)   \n",
       " 2   22 Mar. 2009   Bit by a Dead Bee  8.3  (23,415)   \n",
       " 3   29 Mar. 2009                Down  8.2  (23,528)   \n",
       " 4    5 Apr. 2009            Breakage  8.3  (22,879)   \n",
       " 5   12 Apr. 2009            Peekaboo  8.8  (25,145)   \n",
       " 6   19 Apr. 2009        Negro y Azul  8.6  (23,015)   \n",
       " 7   26 Apr. 2009    Better Call Saul  9.2  (27,541)   \n",
       " 8     3 May 2009          4 Days Out  9.1  (26,243)   \n",
       " 9    10 May 2009                Over  8.5  (22,467)   \n",
       " 10   17 May 2009             Mandala  8.9  (23,222)   \n",
       " 11   24 May 2009             Phoenix  9.3  (26,070)   \n",
       " 12   31 May 2009                 ABQ  9.2  (25,711)   \n",
       " \n",
       "                                    EpisodeDescription  EpisodeNumber  Season  \n",
       " 0   Walt and Jesse realize how dire their situatio...              1       2  \n",
       " 1   Walt's disappearance is met with investigation...              2       2  \n",
       " 2   Walt and Jesse try to come up with alibis for ...              3       2  \n",
       " 3   Skyler keeps mysteriously leaving without talk...              4       2  \n",
       " 4   Walt and Jesse decide to start their own littl...              5       2  \n",
       " 5   After Skinny Pete gets ripped off, Walt makes ...              6       2  \n",
       " 6   Rumor is spreading that Jesse killed the man t...              7       2  \n",
       " 7   Badger is caught by the DEA. Walt and Jesse hi...              8       2  \n",
       " 8   Walt and Jesse become stranded out in the midd...              9       2  \n",
       " 9   Walt's cancer has greatly improved. Time to ce...             10       2  \n",
       " 10  Walt and Jesse's little empire begins to crumb...             11       2  \n",
       " 11  Walt and Skyler have a baby girl. Now that Jes...             12       2  \n",
       " 12  Walt's lies have pushed Skyler to her limit. S...             13       2  ,\n",
       " 3:      ReleaseDate         EpisodeName Rate     Votes  \\\n",
       " 0   21 Mar. 2010              No Más  8.5  (22,254)   \n",
       " 1   28 Mar. 2010  Caballo sin Nombre  8.6  (21,726)   \n",
       " 2    4 Apr. 2010              I.F.T.  8.4  (21,583)   \n",
       " 3   11 Apr. 2010         Green Light  8.2  (21,745)   \n",
       " 4   18 Apr. 2010                 Más  8.5  (21,115)   \n",
       " 5   25 Apr. 2010              Sunset  9.3  (24,769)   \n",
       " 6     2 May 2010          One Minute  9.6  (30,410)   \n",
       " 7     9 May 2010           I See You  8.7  (21,698)   \n",
       " 8    16 May 2010          Kafkaesque  8.4  (21,401)   \n",
       " 9    23 May 2010                 Fly  7.9  (37,850)   \n",
       " 10   30 May 2010             Abiquiu  8.4  (21,291)   \n",
       " 11   6 Jun. 2010       Half Measures  9.5  (29,548)   \n",
       " 12  13 Jun. 2010        Full Measure  9.7  (33,101)   \n",
       " \n",
       "                                    EpisodeDescription  EpisodeNumber  Season  \n",
       " 0   Skyler goes through with her plans to divorce ...              1       3  \n",
       " 1   Walter, Jr. is having a rough time accepting h...              2       3  \n",
       " 2   Walt has moved back into the house without Sky...              3       3  \n",
       " 3   Walt's world crumbles even more after finding ...              4       3  \n",
       " 4   Gus tries to get Walt back in the business by ...              5       3  \n",
       " 5   Heisenberg's organized and practical assistant...              6       3  \n",
       " 6   Jesse ends up in the hospital after getting be...              7       3  \n",
       " 7   Hank ends up in the hospital after being attac...              8       3  \n",
       " 8   Skyler hatches a plan as Hank's hospital bills...              9       3  \n",
       " 9   There is a fly loose in the lab. Walt and Jess...             10       3  \n",
       " 10  Skyler gets more involved in Walt's business, ...             11       3  \n",
       " 11  Against Walt's advice, Jesse lashes out. Feari...             12       3  \n",
       " 12  Jesse has disappeared and Walt is in big troub...             13       3  ,\n",
       " 4:      ReleaseDate        EpisodeName Rate     Votes  \\\n",
       " 0   17 Jul. 2011         Box Cutter  9.2  (26,446)   \n",
       " 1   24 Jul. 2011  Thirty-Eight Snub  8.2  (21,931)   \n",
       " 2   31 Jul. 2011         Open House  8.0  (22,232)   \n",
       " 3    7 Aug. 2011      Bullet Points  8.6  (21,096)   \n",
       " 4   14 Aug. 2011            Shotgun  8.6  (21,137)   \n",
       " 5   21 Aug. 2011           Cornered  8.4  (21,362)   \n",
       " 6   28 Aug. 2011        Problem Dog  8.8  (22,079)   \n",
       " 7    4 Sep. 2011           Hermanos  9.2  (24,855)   \n",
       " 8   11 Sep. 2011                Bug  8.8  (22,388)   \n",
       " 9   18 Sep. 2011              Salud  9.6  (31,483)   \n",
       " 10  25 Sep. 2011        Crawl Space  9.7  (36,637)   \n",
       " 11   2 Oct. 2011          End Times  9.5  (28,260)   \n",
       " 12   9 Oct. 2011           Face Off  9.9  (68,285)   \n",
       " \n",
       "                                    EpisodeDescription  EpisodeNumber  Season  \n",
       " 0   Walt and Jesse are held captive by Gus, after ...              1       4  \n",
       " 1   Walt attempts to form a new alliance as he pla...              2       4  \n",
       " 2   While Walt worries about Gus's interference an...              3       4  \n",
       " 3   As Skyler concocts an elaborate story to expla...              4       4  \n",
       " 4   Jesse rides shotgun with Mike on a perilous ru...              5       4  \n",
       " 5   Skyler adopts an aloof approach when she suspe...              6       4  \n",
       " 6   Skyler looks to continue her family's trend of...              7       4  \n",
       " 7   When Hank produces evidence that Gus is Albuqu...              8       4  \n",
       " 8   While Walt tries to subvert Hank's probe into ...              9       4  \n",
       " 9   Jesse, Gus, and Mike fly down to Mexico, and J...             10       4  \n",
       " 10  Hank asks Walt to drive him to the laundry whe...             11       4  \n",
       " 11  The DEA is putting Hank and his family in prot...             12       4  \n",
       " 12  Jesse is brought to the FBI for questioning on...             13       4  ,\n",
       " 5:      ReleaseDate       EpisodeName  Rate      Votes  \\\n",
       " 0   15 Jul. 2012  Live Free or Die   9.2   (29,755)   \n",
       " 1   22 Jul. 2012          Madrigal   8.8   (25,861)   \n",
       " 2   29 Jul. 2012        Hazard Pay   8.8   (25,281)   \n",
       " 3    5 Aug. 2012         Fifty-One   8.8   (25,464)   \n",
       " 4   12 Aug. 2012      Dead Freight   9.7   (36,912)   \n",
       " 5   19 Aug. 2012            Buyout   9.0   (25,934)   \n",
       " 6   26 Aug. 2012       Say My Name   9.5   (33,518)   \n",
       " 7    2 Sep. 2012  Gliding Over All   9.6   (33,150)   \n",
       " 8   11 Aug. 2013       Blood Money   9.4   (31,706)   \n",
       " 9   18 Aug. 2013            Buried   9.2   (28,245)   \n",
       " 10  25 Aug. 2013       Confessions   9.6   (33,970)   \n",
       " 11   1 Sep. 2013         Rabid Dog   9.1   (29,499)   \n",
       " 12   8 Sep. 2013       To'hajiilee   9.8   (50,035)   \n",
       " 13  15 Sep. 2013        Ozymandias  10.0  (197,290)   \n",
       " 14  22 Sep. 2013     Granite State   9.7   (49,127)   \n",
       " 15  29 Sep. 2013            Felina   9.9  (129,209)   \n",
       " \n",
       "                                    EpisodeDescription  EpisodeNumber  Season  \n",
       " 0   Now that Gus is dead, Walt, Jesse, and Mike wo...              1       5  \n",
       " 1   Walt and Jesse seek out an unlikely partner fo...              2       5  \n",
       " 2   The guys put a business plan into action; Walt...              3       5  \n",
       " 3   It's Walt's 51st birthday. His return to the d...              4       5  \n",
       " 4   Walter White's domestic life continues to dete...              5       5  \n",
       " 5   In the aftermath of the train heist, Jesse and...              6       5  \n",
       " 6   Mike and Jesse are out. Now Walt has to handle...              7       5  \n",
       " 7   Walt expands his business overseas, and the mo...              8       5  \n",
       " 8   Walt is out of the meth business and trying to...              9       5  \n",
       " 9   Hank is determined to bring down Walt. Walt sc...             10       5  \n",
       " 10  Walt makes his next move against Hank, putting...             11       5  \n",
       " 11  Walt discovers Jesse broke into his house and ...             12       5  \n",
       " 12  Jesse and Hank come up with an idea to take Wa...             13       5  \n",
       " 13  Walt goes on the run. Jesse is taken hostage. ...             14       5  \n",
       " 14  Walt struggles as he adapts to aspects of his ...             15       5  \n",
       " 15  Walter White makes one last attempt to secure ...             16       5  }"
      ]
     },
     "execution_count": 45,
     "metadata": {},
     "output_type": "execute_result"
    }
   ],
   "source": [
    "dataframes"
   ]
  },
  {
   "cell_type": "code",
   "execution_count": 46,
   "id": "0a6383e6",
   "metadata": {},
   "outputs": [
    {
     "data": {
      "text/html": [
       "<div>\n",
       "<style scoped>\n",
       "    .dataframe tbody tr th:only-of-type {\n",
       "        vertical-align: middle;\n",
       "    }\n",
       "\n",
       "    .dataframe tbody tr th {\n",
       "        vertical-align: top;\n",
       "    }\n",
       "\n",
       "    .dataframe thead th {\n",
       "        text-align: right;\n",
       "    }\n",
       "</style>\n",
       "<table border=\"1\" class=\"dataframe\">\n",
       "  <thead>\n",
       "    <tr style=\"text-align: right;\">\n",
       "      <th></th>\n",
       "      <th>ReleaseDate</th>\n",
       "      <th>EpisodeName</th>\n",
       "      <th>Rate</th>\n",
       "      <th>Votes</th>\n",
       "      <th>EpisodeDescription</th>\n",
       "      <th>EpisodeNumber</th>\n",
       "      <th>Season</th>\n",
       "    </tr>\n",
       "  </thead>\n",
       "  <tbody>\n",
       "    <tr>\n",
       "      <th>0</th>\n",
       "      <td>20 Jan. 2008</td>\n",
       "      <td>Pilot</td>\n",
       "      <td>9.0</td>\n",
       "      <td>(39,347)</td>\n",
       "      <td>Diagnosed with terminal lung cancer, chemistry...</td>\n",
       "      <td>1</td>\n",
       "      <td>1</td>\n",
       "    </tr>\n",
       "    <tr>\n",
       "      <th>1</th>\n",
       "      <td>27 Jan. 2008</td>\n",
       "      <td>Cat's in the Bag...</td>\n",
       "      <td>8.6</td>\n",
       "      <td>(28,690)</td>\n",
       "      <td>After their first drug deal goes terribly wron...</td>\n",
       "      <td>2</td>\n",
       "      <td>1</td>\n",
       "    </tr>\n",
       "    <tr>\n",
       "      <th>2</th>\n",
       "      <td>10 Feb. 2008</td>\n",
       "      <td>...And the Bag's in the River</td>\n",
       "      <td>8.7</td>\n",
       "      <td>(27,787)</td>\n",
       "      <td>Walt and Jesse clean up after the bathtub inci...</td>\n",
       "      <td>3</td>\n",
       "      <td>1</td>\n",
       "    </tr>\n",
       "    <tr>\n",
       "      <th>3</th>\n",
       "      <td>17 Feb. 2008</td>\n",
       "      <td>Cancer Man</td>\n",
       "      <td>8.2</td>\n",
       "      <td>(26,785)</td>\n",
       "      <td>Walt tells the rest of his family about his ca...</td>\n",
       "      <td>4</td>\n",
       "      <td>1</td>\n",
       "    </tr>\n",
       "    <tr>\n",
       "      <th>4</th>\n",
       "      <td>24 Feb. 2008</td>\n",
       "      <td>Gray Matter</td>\n",
       "      <td>8.3</td>\n",
       "      <td>(26,320)</td>\n",
       "      <td>Walt rejects everyone who tries to help him wi...</td>\n",
       "      <td>5</td>\n",
       "      <td>1</td>\n",
       "    </tr>\n",
       "    <tr>\n",
       "      <th>...</th>\n",
       "      <td>...</td>\n",
       "      <td>...</td>\n",
       "      <td>...</td>\n",
       "      <td>...</td>\n",
       "      <td>...</td>\n",
       "      <td>...</td>\n",
       "      <td>...</td>\n",
       "    </tr>\n",
       "    <tr>\n",
       "      <th>57</th>\n",
       "      <td>1 Sep. 2013</td>\n",
       "      <td>Rabid Dog</td>\n",
       "      <td>9.1</td>\n",
       "      <td>(29,499)</td>\n",
       "      <td>Walt discovers Jesse broke into his house and ...</td>\n",
       "      <td>12</td>\n",
       "      <td>5</td>\n",
       "    </tr>\n",
       "    <tr>\n",
       "      <th>58</th>\n",
       "      <td>8 Sep. 2013</td>\n",
       "      <td>To'hajiilee</td>\n",
       "      <td>9.8</td>\n",
       "      <td>(50,035)</td>\n",
       "      <td>Jesse and Hank come up with an idea to take Wa...</td>\n",
       "      <td>13</td>\n",
       "      <td>5</td>\n",
       "    </tr>\n",
       "    <tr>\n",
       "      <th>59</th>\n",
       "      <td>15 Sep. 2013</td>\n",
       "      <td>Ozymandias</td>\n",
       "      <td>10.0</td>\n",
       "      <td>(197,290)</td>\n",
       "      <td>Walt goes on the run. Jesse is taken hostage. ...</td>\n",
       "      <td>14</td>\n",
       "      <td>5</td>\n",
       "    </tr>\n",
       "    <tr>\n",
       "      <th>60</th>\n",
       "      <td>22 Sep. 2013</td>\n",
       "      <td>Granite State</td>\n",
       "      <td>9.7</td>\n",
       "      <td>(49,127)</td>\n",
       "      <td>Walt struggles as he adapts to aspects of his ...</td>\n",
       "      <td>15</td>\n",
       "      <td>5</td>\n",
       "    </tr>\n",
       "    <tr>\n",
       "      <th>61</th>\n",
       "      <td>29 Sep. 2013</td>\n",
       "      <td>Felina</td>\n",
       "      <td>9.9</td>\n",
       "      <td>(129,209)</td>\n",
       "      <td>Walter White makes one last attempt to secure ...</td>\n",
       "      <td>16</td>\n",
       "      <td>5</td>\n",
       "    </tr>\n",
       "  </tbody>\n",
       "</table>\n",
       "<p>62 rows × 7 columns</p>\n",
       "</div>"
      ],
      "text/plain": [
       "     ReleaseDate                    EpisodeName  Rate      Votes  \\\n",
       "0   20 Jan. 2008                          Pilot   9.0   (39,347)   \n",
       "1   27 Jan. 2008            Cat's in the Bag...   8.6   (28,690)   \n",
       "2   10 Feb. 2008  ...And the Bag's in the River   8.7   (27,787)   \n",
       "3   17 Feb. 2008                     Cancer Man   8.2   (26,785)   \n",
       "4   24 Feb. 2008                    Gray Matter   8.3   (26,320)   \n",
       "..           ...                            ...   ...        ...   \n",
       "57   1 Sep. 2013                      Rabid Dog   9.1   (29,499)   \n",
       "58   8 Sep. 2013                    To'hajiilee   9.8   (50,035)   \n",
       "59  15 Sep. 2013                     Ozymandias  10.0  (197,290)   \n",
       "60  22 Sep. 2013                  Granite State   9.7   (49,127)   \n",
       "61  29 Sep. 2013                         Felina   9.9  (129,209)   \n",
       "\n",
       "                                   EpisodeDescription  EpisodeNumber  Season  \n",
       "0   Diagnosed with terminal lung cancer, chemistry...              1       1  \n",
       "1   After their first drug deal goes terribly wron...              2       1  \n",
       "2   Walt and Jesse clean up after the bathtub inci...              3       1  \n",
       "3   Walt tells the rest of his family about his ca...              4       1  \n",
       "4   Walt rejects everyone who tries to help him wi...              5       1  \n",
       "..                                                ...            ...     ...  \n",
       "57  Walt discovers Jesse broke into his house and ...             12       5  \n",
       "58  Jesse and Hank come up with an idea to take Wa...             13       5  \n",
       "59  Walt goes on the run. Jesse is taken hostage. ...             14       5  \n",
       "60  Walt struggles as he adapts to aspects of his ...             15       5  \n",
       "61  Walter White makes one last attempt to secure ...             16       5  \n",
       "\n",
       "[62 rows x 7 columns]"
      ]
     },
     "execution_count": 46,
     "metadata": {},
     "output_type": "execute_result"
    }
   ],
   "source": [
    "# Concatenate the dataframes into a single dataframe\n",
    "concatenated_df = pd.concat(dataframes.values(), ignore_index=True)\n",
    "\n",
    "# Reset the index of the concatenated dataframe\n",
    "concatenated_df.reset_index(drop=True, inplace=True)\n",
    "\n",
    "# Print the concatenated dataframe\n",
    "concatenated_df"
   ]
  },
  {
   "cell_type": "code",
   "execution_count": 47,
   "id": "deae5f35",
   "metadata": {},
   "outputs": [],
   "source": [
    "BreakingBad = concatenated_df.sort_values(by=['Season', 'EpisodeNumber'])"
   ]
  },
  {
   "cell_type": "code",
   "execution_count": 48,
   "id": "fde9e359",
   "metadata": {},
   "outputs": [
    {
     "name": "stdout",
     "output_type": "stream",
     "text": [
      "<class 'pandas.core.frame.DataFrame'>\n",
      "Int64Index: 62 entries, 0 to 61\n",
      "Data columns (total 7 columns):\n",
      " #   Column              Non-Null Count  Dtype \n",
      "---  ------              --------------  ----- \n",
      " 0   ReleaseDate         62 non-null     object\n",
      " 1   EpisodeName         62 non-null     object\n",
      " 2   Rate                62 non-null     object\n",
      " 3   Votes               62 non-null     object\n",
      " 4   EpisodeDescription  62 non-null     object\n",
      " 5   EpisodeNumber       62 non-null     int32 \n",
      " 6   Season              62 non-null     int64 \n",
      "dtypes: int32(1), int64(1), object(5)\n",
      "memory usage: 3.6+ KB\n"
     ]
    }
   ],
   "source": [
    "BreakingBad.info()"
   ]
  },
  {
   "cell_type": "code",
   "execution_count": 49,
   "id": "05c244bc",
   "metadata": {},
   "outputs": [],
   "source": [
    "BreakingBad['Rate'] = BreakingBad['Rate'].apply(lambda x: float(x))\n",
    "BreakingBad['Votes'] = BreakingBad['Votes'].apply(lambda x: int(x[1:-1].replace(',', '')))"
   ]
  },
  {
   "cell_type": "code",
   "execution_count": 50,
   "id": "3a719d98",
   "metadata": {},
   "outputs": [
    {
     "data": {
      "text/html": [
       "<div>\n",
       "<style scoped>\n",
       "    .dataframe tbody tr th:only-of-type {\n",
       "        vertical-align: middle;\n",
       "    }\n",
       "\n",
       "    .dataframe tbody tr th {\n",
       "        vertical-align: top;\n",
       "    }\n",
       "\n",
       "    .dataframe thead th {\n",
       "        text-align: right;\n",
       "    }\n",
       "</style>\n",
       "<table border=\"1\" class=\"dataframe\">\n",
       "  <thead>\n",
       "    <tr style=\"text-align: right;\">\n",
       "      <th></th>\n",
       "      <th>ReleaseDate</th>\n",
       "      <th>EpisodeName</th>\n",
       "      <th>Rate</th>\n",
       "      <th>Votes</th>\n",
       "      <th>EpisodeDescription</th>\n",
       "      <th>EpisodeNumber</th>\n",
       "      <th>Season</th>\n",
       "    </tr>\n",
       "  </thead>\n",
       "  <tbody>\n",
       "    <tr>\n",
       "      <th>0</th>\n",
       "      <td>20 Jan. 2008</td>\n",
       "      <td>Pilot</td>\n",
       "      <td>9.0</td>\n",
       "      <td>39347</td>\n",
       "      <td>Diagnosed with terminal lung cancer, chemistry...</td>\n",
       "      <td>1</td>\n",
       "      <td>1</td>\n",
       "    </tr>\n",
       "    <tr>\n",
       "      <th>1</th>\n",
       "      <td>27 Jan. 2008</td>\n",
       "      <td>Cat's in the Bag...</td>\n",
       "      <td>8.6</td>\n",
       "      <td>28690</td>\n",
       "      <td>After their first drug deal goes terribly wron...</td>\n",
       "      <td>2</td>\n",
       "      <td>1</td>\n",
       "    </tr>\n",
       "    <tr>\n",
       "      <th>2</th>\n",
       "      <td>10 Feb. 2008</td>\n",
       "      <td>...And the Bag's in the River</td>\n",
       "      <td>8.7</td>\n",
       "      <td>27787</td>\n",
       "      <td>Walt and Jesse clean up after the bathtub inci...</td>\n",
       "      <td>3</td>\n",
       "      <td>1</td>\n",
       "    </tr>\n",
       "    <tr>\n",
       "      <th>3</th>\n",
       "      <td>17 Feb. 2008</td>\n",
       "      <td>Cancer Man</td>\n",
       "      <td>8.2</td>\n",
       "      <td>26785</td>\n",
       "      <td>Walt tells the rest of his family about his ca...</td>\n",
       "      <td>4</td>\n",
       "      <td>1</td>\n",
       "    </tr>\n",
       "    <tr>\n",
       "      <th>4</th>\n",
       "      <td>24 Feb. 2008</td>\n",
       "      <td>Gray Matter</td>\n",
       "      <td>8.3</td>\n",
       "      <td>26320</td>\n",
       "      <td>Walt rejects everyone who tries to help him wi...</td>\n",
       "      <td>5</td>\n",
       "      <td>1</td>\n",
       "    </tr>\n",
       "    <tr>\n",
       "      <th>...</th>\n",
       "      <td>...</td>\n",
       "      <td>...</td>\n",
       "      <td>...</td>\n",
       "      <td>...</td>\n",
       "      <td>...</td>\n",
       "      <td>...</td>\n",
       "      <td>...</td>\n",
       "    </tr>\n",
       "    <tr>\n",
       "      <th>57</th>\n",
       "      <td>1 Sep. 2013</td>\n",
       "      <td>Rabid Dog</td>\n",
       "      <td>9.1</td>\n",
       "      <td>29499</td>\n",
       "      <td>Walt discovers Jesse broke into his house and ...</td>\n",
       "      <td>12</td>\n",
       "      <td>5</td>\n",
       "    </tr>\n",
       "    <tr>\n",
       "      <th>58</th>\n",
       "      <td>8 Sep. 2013</td>\n",
       "      <td>To'hajiilee</td>\n",
       "      <td>9.8</td>\n",
       "      <td>50035</td>\n",
       "      <td>Jesse and Hank come up with an idea to take Wa...</td>\n",
       "      <td>13</td>\n",
       "      <td>5</td>\n",
       "    </tr>\n",
       "    <tr>\n",
       "      <th>59</th>\n",
       "      <td>15 Sep. 2013</td>\n",
       "      <td>Ozymandias</td>\n",
       "      <td>10.0</td>\n",
       "      <td>197290</td>\n",
       "      <td>Walt goes on the run. Jesse is taken hostage. ...</td>\n",
       "      <td>14</td>\n",
       "      <td>5</td>\n",
       "    </tr>\n",
       "    <tr>\n",
       "      <th>60</th>\n",
       "      <td>22 Sep. 2013</td>\n",
       "      <td>Granite State</td>\n",
       "      <td>9.7</td>\n",
       "      <td>49127</td>\n",
       "      <td>Walt struggles as he adapts to aspects of his ...</td>\n",
       "      <td>15</td>\n",
       "      <td>5</td>\n",
       "    </tr>\n",
       "    <tr>\n",
       "      <th>61</th>\n",
       "      <td>29 Sep. 2013</td>\n",
       "      <td>Felina</td>\n",
       "      <td>9.9</td>\n",
       "      <td>129209</td>\n",
       "      <td>Walter White makes one last attempt to secure ...</td>\n",
       "      <td>16</td>\n",
       "      <td>5</td>\n",
       "    </tr>\n",
       "  </tbody>\n",
       "</table>\n",
       "<p>62 rows × 7 columns</p>\n",
       "</div>"
      ],
      "text/plain": [
       "     ReleaseDate                    EpisodeName  Rate   Votes  \\\n",
       "0   20 Jan. 2008                          Pilot   9.0   39347   \n",
       "1   27 Jan. 2008            Cat's in the Bag...   8.6   28690   \n",
       "2   10 Feb. 2008  ...And the Bag's in the River   8.7   27787   \n",
       "3   17 Feb. 2008                     Cancer Man   8.2   26785   \n",
       "4   24 Feb. 2008                    Gray Matter   8.3   26320   \n",
       "..           ...                            ...   ...     ...   \n",
       "57   1 Sep. 2013                      Rabid Dog   9.1   29499   \n",
       "58   8 Sep. 2013                    To'hajiilee   9.8   50035   \n",
       "59  15 Sep. 2013                     Ozymandias  10.0  197290   \n",
       "60  22 Sep. 2013                  Granite State   9.7   49127   \n",
       "61  29 Sep. 2013                         Felina   9.9  129209   \n",
       "\n",
       "                                   EpisodeDescription  EpisodeNumber  Season  \n",
       "0   Diagnosed with terminal lung cancer, chemistry...              1       1  \n",
       "1   After their first drug deal goes terribly wron...              2       1  \n",
       "2   Walt and Jesse clean up after the bathtub inci...              3       1  \n",
       "3   Walt tells the rest of his family about his ca...              4       1  \n",
       "4   Walt rejects everyone who tries to help him wi...              5       1  \n",
       "..                                                ...            ...     ...  \n",
       "57  Walt discovers Jesse broke into his house and ...             12       5  \n",
       "58  Jesse and Hank come up with an idea to take Wa...             13       5  \n",
       "59  Walt goes on the run. Jesse is taken hostage. ...             14       5  \n",
       "60  Walt struggles as he adapts to aspects of his ...             15       5  \n",
       "61  Walter White makes one last attempt to secure ...             16       5  \n",
       "\n",
       "[62 rows x 7 columns]"
      ]
     },
     "execution_count": 50,
     "metadata": {},
     "output_type": "execute_result"
    }
   ],
   "source": [
    "BreakingBad"
   ]
  },
  {
   "cell_type": "code",
   "execution_count": 51,
   "id": "531231ca",
   "metadata": {},
   "outputs": [
    {
     "data": {
      "text/html": [
       "<div>\n",
       "<style scoped>\n",
       "    .dataframe tbody tr th:only-of-type {\n",
       "        vertical-align: middle;\n",
       "    }\n",
       "\n",
       "    .dataframe tbody tr th {\n",
       "        vertical-align: top;\n",
       "    }\n",
       "\n",
       "    .dataframe thead th {\n",
       "        text-align: right;\n",
       "    }\n",
       "</style>\n",
       "<table border=\"1\" class=\"dataframe\">\n",
       "  <thead>\n",
       "    <tr style=\"text-align: right;\">\n",
       "      <th></th>\n",
       "      <th>ReleaseDate</th>\n",
       "      <th>EpisodeName</th>\n",
       "      <th>Rate</th>\n",
       "      <th>Votes</th>\n",
       "      <th>EpisodeDescription</th>\n",
       "      <th>EpisodeNumber</th>\n",
       "      <th>Season</th>\n",
       "    </tr>\n",
       "  </thead>\n",
       "  <tbody>\n",
       "    <tr>\n",
       "      <th>59</th>\n",
       "      <td>15 Sep. 2013</td>\n",
       "      <td>Ozymandias</td>\n",
       "      <td>10.0</td>\n",
       "      <td>197290</td>\n",
       "      <td>Walt goes on the run. Jesse is taken hostage. ...</td>\n",
       "      <td>14</td>\n",
       "      <td>5</td>\n",
       "    </tr>\n",
       "    <tr>\n",
       "      <th>61</th>\n",
       "      <td>29 Sep. 2013</td>\n",
       "      <td>Felina</td>\n",
       "      <td>9.9</td>\n",
       "      <td>129209</td>\n",
       "      <td>Walter White makes one last attempt to secure ...</td>\n",
       "      <td>16</td>\n",
       "      <td>5</td>\n",
       "    </tr>\n",
       "    <tr>\n",
       "      <th>45</th>\n",
       "      <td>9 Oct. 2011</td>\n",
       "      <td>Face Off</td>\n",
       "      <td>9.9</td>\n",
       "      <td>68285</td>\n",
       "      <td>Jesse is brought to the FBI for questioning on...</td>\n",
       "      <td>13</td>\n",
       "      <td>4</td>\n",
       "    </tr>\n",
       "    <tr>\n",
       "      <th>58</th>\n",
       "      <td>8 Sep. 2013</td>\n",
       "      <td>To'hajiilee</td>\n",
       "      <td>9.8</td>\n",
       "      <td>50035</td>\n",
       "      <td>Jesse and Hank come up with an idea to take Wa...</td>\n",
       "      <td>13</td>\n",
       "      <td>5</td>\n",
       "    </tr>\n",
       "    <tr>\n",
       "      <th>60</th>\n",
       "      <td>22 Sep. 2013</td>\n",
       "      <td>Granite State</td>\n",
       "      <td>9.7</td>\n",
       "      <td>49127</td>\n",
       "      <td>Walt struggles as he adapts to aspects of his ...</td>\n",
       "      <td>15</td>\n",
       "      <td>5</td>\n",
       "    </tr>\n",
       "    <tr>\n",
       "      <th>50</th>\n",
       "      <td>12 Aug. 2012</td>\n",
       "      <td>Dead Freight</td>\n",
       "      <td>9.7</td>\n",
       "      <td>36912</td>\n",
       "      <td>Walter White's domestic life continues to dete...</td>\n",
       "      <td>5</td>\n",
       "      <td>5</td>\n",
       "    </tr>\n",
       "    <tr>\n",
       "      <th>43</th>\n",
       "      <td>25 Sep. 2011</td>\n",
       "      <td>Crawl Space</td>\n",
       "      <td>9.7</td>\n",
       "      <td>36637</td>\n",
       "      <td>Hank asks Walt to drive him to the laundry whe...</td>\n",
       "      <td>11</td>\n",
       "      <td>4</td>\n",
       "    </tr>\n",
       "    <tr>\n",
       "      <th>32</th>\n",
       "      <td>13 Jun. 2010</td>\n",
       "      <td>Full Measure</td>\n",
       "      <td>9.7</td>\n",
       "      <td>33101</td>\n",
       "      <td>Jesse has disappeared and Walt is in big troub...</td>\n",
       "      <td>13</td>\n",
       "      <td>3</td>\n",
       "    </tr>\n",
       "    <tr>\n",
       "      <th>56</th>\n",
       "      <td>25 Aug. 2013</td>\n",
       "      <td>Confessions</td>\n",
       "      <td>9.6</td>\n",
       "      <td>33970</td>\n",
       "      <td>Walt makes his next move against Hank, putting...</td>\n",
       "      <td>11</td>\n",
       "      <td>5</td>\n",
       "    </tr>\n",
       "    <tr>\n",
       "      <th>53</th>\n",
       "      <td>2 Sep. 2012</td>\n",
       "      <td>Gliding Over All</td>\n",
       "      <td>9.6</td>\n",
       "      <td>33150</td>\n",
       "      <td>Walt expands his business overseas, and the mo...</td>\n",
       "      <td>8</td>\n",
       "      <td>5</td>\n",
       "    </tr>\n",
       "  </tbody>\n",
       "</table>\n",
       "</div>"
      ],
      "text/plain": [
       "     ReleaseDate       EpisodeName  Rate   Votes  \\\n",
       "59  15 Sep. 2013        Ozymandias  10.0  197290   \n",
       "61  29 Sep. 2013            Felina   9.9  129209   \n",
       "45   9 Oct. 2011          Face Off   9.9   68285   \n",
       "58   8 Sep. 2013       To'hajiilee   9.8   50035   \n",
       "60  22 Sep. 2013     Granite State   9.7   49127   \n",
       "50  12 Aug. 2012      Dead Freight   9.7   36912   \n",
       "43  25 Sep. 2011       Crawl Space   9.7   36637   \n",
       "32  13 Jun. 2010      Full Measure   9.7   33101   \n",
       "56  25 Aug. 2013       Confessions   9.6   33970   \n",
       "53   2 Sep. 2012  Gliding Over All   9.6   33150   \n",
       "\n",
       "                                   EpisodeDescription  EpisodeNumber  Season  \n",
       "59  Walt goes on the run. Jesse is taken hostage. ...             14       5  \n",
       "61  Walter White makes one last attempt to secure ...             16       5  \n",
       "45  Jesse is brought to the FBI for questioning on...             13       4  \n",
       "58  Jesse and Hank come up with an idea to take Wa...             13       5  \n",
       "60  Walt struggles as he adapts to aspects of his ...             15       5  \n",
       "50  Walter White's domestic life continues to dete...              5       5  \n",
       "43  Hank asks Walt to drive him to the laundry whe...             11       4  \n",
       "32  Jesse has disappeared and Walt is in big troub...             13       3  \n",
       "56  Walt makes his next move against Hank, putting...             11       5  \n",
       "53  Walt expands his business overseas, and the mo...              8       5  "
      ]
     },
     "execution_count": 51,
     "metadata": {},
     "output_type": "execute_result"
    }
   ],
   "source": [
    "BreakingBad.sort_values(by=['Rate', 'Votes'], ascending=False)[0:10]"
   ]
  },
  {
   "cell_type": "code",
   "execution_count": 52,
   "id": "c26d4919",
   "metadata": {},
   "outputs": [
    {
     "data": {
      "text/html": [
       "<div>\n",
       "<style scoped>\n",
       "    .dataframe tbody tr th:only-of-type {\n",
       "        vertical-align: middle;\n",
       "    }\n",
       "\n",
       "    .dataframe tbody tr th {\n",
       "        vertical-align: top;\n",
       "    }\n",
       "\n",
       "    .dataframe thead th {\n",
       "        text-align: right;\n",
       "    }\n",
       "</style>\n",
       "<table border=\"1\" class=\"dataframe\">\n",
       "  <thead>\n",
       "    <tr style=\"text-align: right;\">\n",
       "      <th></th>\n",
       "      <th>ReleaseDate</th>\n",
       "      <th>EpisodeName</th>\n",
       "      <th>Rate</th>\n",
       "      <th>Votes</th>\n",
       "      <th>EpisodeDescription</th>\n",
       "      <th>EpisodeNumber</th>\n",
       "      <th>Season</th>\n",
       "    </tr>\n",
       "  </thead>\n",
       "  <tbody>\n",
       "    <tr>\n",
       "      <th>59</th>\n",
       "      <td>15 Sep. 2013</td>\n",
       "      <td>Ozymandias</td>\n",
       "      <td>10.0</td>\n",
       "      <td>197290</td>\n",
       "      <td>Walt goes on the run. Jesse is taken hostage. ...</td>\n",
       "      <td>14</td>\n",
       "      <td>5</td>\n",
       "    </tr>\n",
       "    <tr>\n",
       "      <th>61</th>\n",
       "      <td>29 Sep. 2013</td>\n",
       "      <td>Felina</td>\n",
       "      <td>9.9</td>\n",
       "      <td>129209</td>\n",
       "      <td>Walter White makes one last attempt to secure ...</td>\n",
       "      <td>16</td>\n",
       "      <td>5</td>\n",
       "    </tr>\n",
       "    <tr>\n",
       "      <th>45</th>\n",
       "      <td>9 Oct. 2011</td>\n",
       "      <td>Face Off</td>\n",
       "      <td>9.9</td>\n",
       "      <td>68285</td>\n",
       "      <td>Jesse is brought to the FBI for questioning on...</td>\n",
       "      <td>13</td>\n",
       "      <td>4</td>\n",
       "    </tr>\n",
       "    <tr>\n",
       "      <th>58</th>\n",
       "      <td>8 Sep. 2013</td>\n",
       "      <td>To'hajiilee</td>\n",
       "      <td>9.8</td>\n",
       "      <td>50035</td>\n",
       "      <td>Jesse and Hank come up with an idea to take Wa...</td>\n",
       "      <td>13</td>\n",
       "      <td>5</td>\n",
       "    </tr>\n",
       "    <tr>\n",
       "      <th>60</th>\n",
       "      <td>22 Sep. 2013</td>\n",
       "      <td>Granite State</td>\n",
       "      <td>9.7</td>\n",
       "      <td>49127</td>\n",
       "      <td>Walt struggles as he adapts to aspects of his ...</td>\n",
       "      <td>15</td>\n",
       "      <td>5</td>\n",
       "    </tr>\n",
       "    <tr>\n",
       "      <th>0</th>\n",
       "      <td>20 Jan. 2008</td>\n",
       "      <td>Pilot</td>\n",
       "      <td>9.0</td>\n",
       "      <td>39347</td>\n",
       "      <td>Diagnosed with terminal lung cancer, chemistry...</td>\n",
       "      <td>1</td>\n",
       "      <td>1</td>\n",
       "    </tr>\n",
       "    <tr>\n",
       "      <th>29</th>\n",
       "      <td>23 May 2010</td>\n",
       "      <td>Fly</td>\n",
       "      <td>7.9</td>\n",
       "      <td>37850</td>\n",
       "      <td>There is a fly loose in the lab. Walt and Jess...</td>\n",
       "      <td>10</td>\n",
       "      <td>3</td>\n",
       "    </tr>\n",
       "    <tr>\n",
       "      <th>50</th>\n",
       "      <td>12 Aug. 2012</td>\n",
       "      <td>Dead Freight</td>\n",
       "      <td>9.7</td>\n",
       "      <td>36912</td>\n",
       "      <td>Walter White's domestic life continues to dete...</td>\n",
       "      <td>5</td>\n",
       "      <td>5</td>\n",
       "    </tr>\n",
       "    <tr>\n",
       "      <th>43</th>\n",
       "      <td>25 Sep. 2011</td>\n",
       "      <td>Crawl Space</td>\n",
       "      <td>9.7</td>\n",
       "      <td>36637</td>\n",
       "      <td>Hank asks Walt to drive him to the laundry whe...</td>\n",
       "      <td>11</td>\n",
       "      <td>4</td>\n",
       "    </tr>\n",
       "    <tr>\n",
       "      <th>56</th>\n",
       "      <td>25 Aug. 2013</td>\n",
       "      <td>Confessions</td>\n",
       "      <td>9.6</td>\n",
       "      <td>33970</td>\n",
       "      <td>Walt makes his next move against Hank, putting...</td>\n",
       "      <td>11</td>\n",
       "      <td>5</td>\n",
       "    </tr>\n",
       "  </tbody>\n",
       "</table>\n",
       "</div>"
      ],
      "text/plain": [
       "     ReleaseDate    EpisodeName  Rate   Votes  \\\n",
       "59  15 Sep. 2013     Ozymandias  10.0  197290   \n",
       "61  29 Sep. 2013         Felina   9.9  129209   \n",
       "45   9 Oct. 2011       Face Off   9.9   68285   \n",
       "58   8 Sep. 2013    To'hajiilee   9.8   50035   \n",
       "60  22 Sep. 2013  Granite State   9.7   49127   \n",
       "0   20 Jan. 2008          Pilot   9.0   39347   \n",
       "29   23 May 2010            Fly   7.9   37850   \n",
       "50  12 Aug. 2012   Dead Freight   9.7   36912   \n",
       "43  25 Sep. 2011    Crawl Space   9.7   36637   \n",
       "56  25 Aug. 2013    Confessions   9.6   33970   \n",
       "\n",
       "                                   EpisodeDescription  EpisodeNumber  Season  \n",
       "59  Walt goes on the run. Jesse is taken hostage. ...             14       5  \n",
       "61  Walter White makes one last attempt to secure ...             16       5  \n",
       "45  Jesse is brought to the FBI for questioning on...             13       4  \n",
       "58  Jesse and Hank come up with an idea to take Wa...             13       5  \n",
       "60  Walt struggles as he adapts to aspects of his ...             15       5  \n",
       "0   Diagnosed with terminal lung cancer, chemistry...              1       1  \n",
       "29  There is a fly loose in the lab. Walt and Jess...             10       3  \n",
       "50  Walter White's domestic life continues to dete...              5       5  \n",
       "43  Hank asks Walt to drive him to the laundry whe...             11       4  \n",
       "56  Walt makes his next move against Hank, putting...             11       5  "
      ]
     },
     "execution_count": 52,
     "metadata": {},
     "output_type": "execute_result"
    }
   ],
   "source": [
    "BreakingBad.sort_values(by='Votes', ascending=False)[0:10]"
   ]
  },
  {
   "cell_type": "code",
   "execution_count": 53,
   "id": "ce9dff93",
   "metadata": {},
   "outputs": [
    {
     "data": {
      "text/plain": [
       "array(['Walt goes on the run. Jesse is taken hostage. Marie convinces Skyler to tell Walter, Jr. the truth.',\n",
       "       \"Walter White makes one last attempt to secure his family's future, while also visiting some old enemies, during his final return to Albuquerque.\",\n",
       "       'Jesse is brought to the FBI for questioning on his knowledge of ricin. In a last effort to kill Gus, Walt must ask for help from an old enemy.',\n",
       "       \"Jesse and Hank come up with an idea to take Walt down. Walt hires Todd's uncle to kill Jesse.\",\n",
       "       'Walt struggles as he adapts to aspects of his new identity. Jesse plans an escape against Jack and his crew.',\n",
       "       \"Walter White's domestic life continues to deteriorate; at the same time, his growing business venture aims to steal a train car chock full of methylamine.\",\n",
       "       \"Hank asks Walt to drive him to the laundry where the meth lab is hidden. Ted still won't pay the IRS so Skyler asks Saul for help, and Saul sends in his A-Team. Gus and Jesse return from Mexico, and Walt fears he is in trouble with Gus.\",\n",
       "       \"Jesse has disappeared and Walt is in big trouble with Gus. So Gus rehires Gale to learn from Walt's cooking so that they can dispose of Walt once and for all.\",\n",
       "       'Jesse ends up in the hospital after getting beaten up by Hank. Now he is threatening to press charges against the DEA. To stop him, Walt decides to bring Jesse on as his partner, once again.',\n",
       "       \"Walt makes his next move against Hank, putting Hank in a tough position. Hank confronts Jesse and attempts to turn him against Walt, and Jesse decides it's time to move on. Meanwhile, Todd has taken over the business.\"],\n",
       "      dtype=object)"
      ]
     },
     "execution_count": 53,
     "metadata": {},
     "output_type": "execute_result"
    }
   ],
   "source": [
    "BreakingBad.sort_values(by='Rate', ascending=False)[0:10]['EpisodeDescription'].values"
   ]
  },
  {
   "cell_type": "code",
   "execution_count": 54,
   "id": "9c7cfe1a",
   "metadata": {},
   "outputs": [],
   "source": [
    "aggs_by_cols = {'Rate': [np.min, np.max, np.ptp, np.mean, np.median],\n",
    "                'Votes': [np.min, np.max, np.sum, np.mean, np.median]}\n",
    "\n",
    "BreakingBadGroupby = BreakingBad.groupby('Season').agg(aggs_by_cols)"
   ]
  },
  {
   "cell_type": "code",
   "execution_count": 55,
   "id": "be82ae6e",
   "metadata": {
    "scrolled": false
   },
   "outputs": [
    {
     "data": {
      "image/png": "[encoded data removed]",
      "text/plain": [
       "<Figure size 1080x504 with 1 Axes>"
      ]
     },
     "metadata": {
      "needs_background": "light"
     },
     "output_type": "display_data"
    },
    {
     "data": {
      "image/png": "[encoded data removed]",
      "text/plain": [
       "<Figure size 1080x504 with 1 Axes>"
      ]
     },
     "metadata": {
      "needs_background": "light"
     },
     "output_type": "display_data"
    },
    {
     "data": {
      "image/png": "[encoded data removed]",
      "text/plain": [
       "<Figure size 1080x504 with 1 Axes>"
      ]
     },
     "metadata": {
      "needs_background": "light"
     },
     "output_type": "display_data"
    },
    {
     "data": {
      "image/png": "[encoded data removed]",
      "text/plain": [
       "<Figure size 1080x504 with 1 Axes>"
      ]
     },
     "metadata": {
      "needs_background": "light"
     },
     "output_type": "display_data"
    },
    {
     "data": {
      "image/png": "[encoded data removed]",
      "text/plain": [
       "<Figure size 1080x504 with 1 Axes>"
      ]
     },
     "metadata": {
      "needs_background": "light"
     },
     "output_type": "display_data"
    },
    {
     "data": {
      "image/png": "[encoded data removed]",
      "text/plain": [
       "<Figure size 1080x504 with 1 Axes>"
      ]
     },
     "metadata": {
      "needs_background": "light"
     },
     "output_type": "display_data"
    },
    {
     "data": {
      "image/png": "[encoded data removed]",
      "text/plain": [
       "<Figure size 1080x504 with 1 Axes>"
      ]
     },
     "metadata": {
      "needs_background": "light"
     },
     "output_type": "display_data"
    },
    {
     "data": {
      "image/png": "[encoded data removed]",
      "text/plain": [
       "<Figure size 1080x504 with 1 Axes>"
      ]
     },
     "metadata": {
      "needs_background": "light"
     },
     "output_type": "display_data"
    },
    {
     "data": {
      "image/png": "[encoded data removed]",
      "text/plain": [
       "<Figure size 1080x504 with 1 Axes>"
      ]
     },
     "metadata": {
      "needs_background": "light"
     },
     "output_type": "display_data"
    },
    {
     "data": {
      "image/png": "[encoded data removed]",
      "text/plain": [
       "<Figure size 1080x504 with 1 Axes>"
      ]
     },
     "metadata": {
      "needs_background": "light"
     },
     "output_type": "display_data"
    }
   ],
   "source": [
    "for item in BreakingBadGroupby.columns:\n",
    "    fig, ax = plt.subplots(figsize=(15, 7))\n",
    "    BreakingBadGroupby[item].plot(kind='bar')\n",
    "    ax.set_title(item)\n",
    "    ax.set_ylabel('Rate')\n",
    "    ax.set_xlabel('Season')\n",
    "    add_value_labels(ax)"
   ]
  },
  {
   "cell_type": "code",
   "execution_count": 57,
   "id": "ea5ca091",
   "metadata": {},
   "outputs": [],
   "source": [
    "SeasonFinale = {}\n",
    "for season in BreakingBad.Season.unique():\n",
    "    SeasonFinale[season] = get_rate(BreakingBad, season)"
   ]
  },
  {
   "cell_type": "code",
   "execution_count": 58,
   "id": "29e0f059",
   "metadata": {},
   "outputs": [
    {
     "data": {
      "text/plain": [
       "{1: 8.8, 2: 9.2, 3: 9.7, 4: 9.9, 5: 9.9}"
      ]
     },
     "execution_count": 58,
     "metadata": {},
     "output_type": "execute_result"
    }
   ],
   "source": [
    "SeasonFinale"
   ]
  },
  {
   "cell_type": "code",
   "execution_count": 59,
   "id": "f7a873ce",
   "metadata": {},
   "outputs": [
    {
     "data": {
      "text/plain": [
       "([<matplotlib.axis.XTick at 0x27afe509700>,\n",
       "  <matplotlib.axis.XTick at 0x27afe5097f0>,\n",
       "  <matplotlib.axis.XTick at 0x27a88d99970>,\n",
       "  <matplotlib.axis.XTick at 0x27a88eae400>,\n",
       "  <matplotlib.axis.XTick at 0x27a88eae880>],\n",
       " [Text(0, 0, ''),\n",
       "  Text(0, 0, ''),\n",
       "  Text(0, 0, ''),\n",
       "  Text(0, 0, ''),\n",
       "  Text(0, 0, '')])"
      ]
     },
     "execution_count": 59,
     "metadata": {},
     "output_type": "execute_result"
    },
    {
     "data": {
      "image/png": "[encoded data removed]",
      "text/plain": [
       "<Figure size 1080x504 with 1 Axes>"
      ]
     },
     "metadata": {
      "needs_background": "light"
     },
     "output_type": "display_data"
    }
   ],
   "source": [
    "fig, ax = plt.subplots(figsize=(15,7))\n",
    "plt.bar(SeasonFinale.keys(), SeasonFinale.values())\n",
    "add_value_labels(ax)\n",
    "plt.title('Season Finale Rate x Season')\n",
    "plt.xlabel('Season')\n",
    "plt.ylabel('Rate')\n",
    "plt.xticks(list(SeasonFinale.keys()))"
   ]
  },
  {
   "cell_type": "code",
   "execution_count": null,
   "id": "fceb90b2",
   "metadata": {},
   "outputs": [],
   "source": []
  },
  {
   "cell_type": "code",
   "execution_count": null,
   "id": "877d1b73",
   "metadata": {},
   "outputs": [],
   "source": []
  },
  {
   "cell_type": "code",
   "execution_count": null,
   "id": "73a0d699",
   "metadata": {},
   "outputs": [],
   "source": []
  }
 ],
 "metadata": {
  "kernelspec": {
   "display_name": "Python 3 (ipykernel)",
   "language": "python",
   "name": "python3"
  },
  "language_info": {
   "codemirror_mode": {
    "name": "ipython",
    "version": 3
   },
   "file_extension": ".py",
   "mimetype": "text/x-python",
   "name": "python",
   "nbconvert_exporter": "python",
   "pygments_lexer": "ipython3",
   "version": "3.9.7"
  }
 },
 "nbformat": 4,
 "nbformat_minor": 5
}
