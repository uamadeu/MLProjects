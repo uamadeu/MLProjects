{
 "cells": [
  {
   "cell_type": "code",
   "execution_count": 1,
   "id": "ea1d1574",
   "metadata": {},
   "outputs": [],
   "source": [
    "import requests\n",
    "import numpy as np\n",
    "import pandas as pd\n",
    "import matplotlib.pyplot as plt\n",
    "from bs4 import BeautifulSoup\n",
    "import seaborn as sns"
   ]
  },
  {
   "cell_type": "code",
   "execution_count": 2,
   "id": "bb09ae03",
   "metadata": {},
   "outputs": [],
   "source": [
    "def add_value_labels(ax, spacing=5):\n",
    "    # Função adaptada do Stak Oveflow no link: https://stackoverflow.com/questions/28931224/how-to-add-value-labels-on-a-bar-chart\n",
    "    # Esta função adiciona os value labels acima da barra no gráfico abaixo\n",
    "\n",
    "    \"\"\"Add labels to the end of each bar in a bar chart.\n",
    "\n",
    "    Arguments:\n",
    "        ax (matplotlib.axes.Axes): The matplotlib object containing the axes\n",
    "            of the plot to annotate.\n",
    "        spacing (int): The distance between the labels and the bars.\n",
    "    \"\"\"\n",
    "\n",
    "    # For each bar: Place a label\n",
    "    for rect in ax.patches:\n",
    "        # Get X and Y placement of label from rect.\n",
    "        y_value = rect.get_height()\n",
    "        x_value = rect.get_x() + rect.get_width() / 2\n",
    "\n",
    "        # Number of points between bar and label. Change to your liking.\n",
    "        space = spacing\n",
    "        # Vertical alignment for positive values\n",
    "        va = 'bottom'\n",
    "\n",
    "        # If value of bar is negative: Place label below bar\n",
    "        if y_value < 0:\n",
    "            # Invert space to place label below\n",
    "            space *= -1\n",
    "            # Vertically align label at top\n",
    "            va = 'top'\n",
    "\n",
    "        # Use Y value as label and format number with one decimal place\n",
    "        label = \"{:.2f}\".format(y_value)\n",
    "\n",
    "        # Create annotation\n",
    "        ax.annotate(\n",
    "            label,                      # Use `label` as label\n",
    "            (x_value, y_value),         # Place label at end of the bar\n",
    "            xytext=(0, space),          # Vertically shift label by `space`\n",
    "            textcoords=\"offset points\", # Interpret `xytext` as offset in points\n",
    "            ha='center',                # Horizontally center label\n",
    "            va=va)                      # Vertically align label differently for\n",
    "                                        # positive and negative values.\n",
    "            \n",
    "            \n",
    "def get_rate(df, season):\n",
    "    return BreakingBad.loc[(df.Season==season) & (df.EpisodeNumber==SeasonLength[season]), 'Rate'].values[0]"
   ]
  },
  {
   "cell_type": "code",
   "execution_count": 3,
   "id": "8da635eb",
   "metadata": {},
   "outputs": [
    {
     "data": {
      "text/plain": [
       "['1', '2', '3', '4', '5', '6', '7', '8']"
      ]
     },
     "execution_count": 3,
     "metadata": {},
     "output_type": "execute_result"
    }
   ],
   "source": [
    "link = 'https://www.imdb.com/title/tt0944947/episodes?season='\n",
    "season_n = [str(idx) for idx in range(1, 9)]\n",
    "season_n"
   ]
  },
  {
   "cell_type": "code",
   "execution_count": 4,
   "id": "5c008426",
   "metadata": {},
   "outputs": [
    {
     "data": {
      "text/plain": [
       "['https://www.imdb.com/title/tt0944947/episodes?season=1',\n",
       " 'https://www.imdb.com/title/tt0944947/episodes?season=2',\n",
       " 'https://www.imdb.com/title/tt0944947/episodes?season=3',\n",
       " 'https://www.imdb.com/title/tt0944947/episodes?season=4',\n",
       " 'https://www.imdb.com/title/tt0944947/episodes?season=5',\n",
       " 'https://www.imdb.com/title/tt0944947/episodes?season=6',\n",
       " 'https://www.imdb.com/title/tt0944947/episodes?season=7',\n",
       " 'https://www.imdb.com/title/tt0944947/episodes?season=8']"
      ]
     },
     "execution_count": 4,
     "metadata": {},
     "output_type": "execute_result"
    }
   ],
   "source": [
    "url = [link + idx for idx in season_n]\n",
    "url"
   ]
  },
  {
   "cell_type": "markdown",
   "id": "c47681a2",
   "metadata": {},
   "source": [
    "# Copy"
   ]
  },
  {
   "cell_type": "code",
   "execution_count": 5,
   "id": "991f869c",
   "metadata": {},
   "outputs": [],
   "source": [
    "SeasonLength = {1: 10, 2: 10, 3: 10, 4: 10, 5: 10, 6: 10, 7: 7, 8: 6}"
   ]
  },
  {
   "cell_type": "code",
   "execution_count": 6,
   "id": "6a7a521f",
   "metadata": {},
   "outputs": [
    {
     "name": "stdout",
     "output_type": "stream",
     "text": [
      "Wall time: 12.5 s\n"
     ]
    }
   ],
   "source": [
    "%%time\n",
    "season_dict = {}\n",
    "get_off = ['', '0', '1', '2', '3', '4', '5', '6', '7', '8', '9', '10', '0', 'Rate', 'Error: please try again.']\n",
    "\n",
    "for sea, page in enumerate(url):\n",
    "    search = requests.get(page)\n",
    "    soup = BeautifulSoup(search.content, 'html.parser')\n",
    "    results = soup.find(id='episodes_content')\n",
    "    releases = results.find_all('div', class_='info')\n",
    "    cleaned_releases = []\n",
    "    \n",
    "    for idx, release in enumerate(releases):\n",
    "        release_text = release.text.strip().split('\\n')\n",
    "        for element in release_text:\n",
    "            cleaned_element = ' '.join(element.strip().split())\n",
    "            if cleaned_element not in get_off:\n",
    "                cleaned_releases.append(cleaned_element)\n",
    "                \n",
    "    season = np.array_split(cleaned_releases, SeasonLength[sea + 1])          \n",
    "    season_dict[sea + 1] = season"
   ]
  },
  {
   "cell_type": "code",
   "execution_count": 7,
   "id": "99bd85c5",
   "metadata": {
    "scrolled": false
   },
   "outputs": [
    {
     "data": {
      "text/plain": [
       "[array(['14 Apr. 2019', 'Winterfell', '7.6', '(134,926)',\n",
       "        'Jon and Daenerys arrive in Winterfell and are met with skepticism. Sam learns about the fate of his family. Cersei gives Euron the reward he aims for. Theon follows his heart.'],\n",
       "       dtype='<U175'),\n",
       " array(['21 Apr. 2019', 'A Knight of the Seven Kingdoms', '7.9',\n",
       "        '(133,543)',\n",
       "        'Jaime faces judgment and Winterfell prepares for the battle to come.'],\n",
       "       dtype='<U175'),\n",
       " array(['28 Apr. 2019', 'The Long Night', '7.5', '(219,998)',\n",
       "        'The Night King and his army have arrived at Winterfell and the great battle begins.'],\n",
       "       dtype='<U175'),\n",
       " array(['5 May 2019', 'The Last of the Starks', '5.5', '(167,909)',\n",
       "        'The Battle of Winterfell is over and a new chapter for Westeros begins.'],\n",
       "       dtype='<U175'),\n",
       " array(['12 May 2019', 'The Bells', '6.0', '(195,935)',\n",
       "        \"Forces have arrived at King's Landing for the final battle.\"],\n",
       "       dtype='<U175'),\n",
       " array(['19 May 2019', 'The Iron Throne', '4.0', '(254,527)',\n",
       "        \"In the aftermath of the devastating attack on King's Landing, Daenerys must face the survivors.\"],\n",
       "       dtype='<U175')]"
      ]
     },
     "execution_count": 7,
     "metadata": {},
     "output_type": "execute_result"
    }
   ],
   "source": [
    "season"
   ]
  },
  {
   "cell_type": "code",
   "execution_count": 8,
   "id": "98740942",
   "metadata": {},
   "outputs": [],
   "source": [
    "dataframes = {}\n",
    "for key in season_dict.keys():\n",
    "    df = pd.DataFrame(season_dict[key], columns=['ReleaseDate', 'EpisodeName', 'Rate', 'Votes', 'EpisodeDescription'])\n",
    "    df['EpisodeNumber'] = np.arange(1, SeasonLength[key] + 1)\n",
    "    df['Season'] = key\n",
    "    dataframes[key] = df"
   ]
  },
  {
   "cell_type": "code",
   "execution_count": 9,
   "id": "31c6eeb3",
   "metadata": {},
   "outputs": [
    {
     "data": {
      "text/plain": [
       "{1:     ReleaseDate                            EpisodeName Rate     Votes  \\\n",
       " 0    8 May 2011                       Winter Is Coming  8.9  (51,554)   \n",
       " 1   15 May 2011                          The Kingsroad  8.6  (38,959)   \n",
       " 2    1 May 2011                              Lord Snow  8.5  (36,859)   \n",
       " 3    8 May 2011  Cripples, Bastards, and Broken Things  8.6  (35,060)   \n",
       " 4   15 May 2011                  The Wolf and the Lion  9.0  (36,452)   \n",
       " 5   22 May 2011                         A Golden Crown  9.1  (36,038)   \n",
       " 6   29 May 2011                     You Win or You Die  9.1  (36,554)   \n",
       " 7   5 Jun. 2011                         The Pointy End  8.9  (34,212)   \n",
       " 8  12 Jun. 2011                                 Baelor  9.6  (47,817)   \n",
       " 9  19 Jun. 2011                         Fire and Blood  9.4  (41,976)   \n",
       " \n",
       "                                   EpisodeDescription  EpisodeNumber  Season  \n",
       " 0  Eddard Stark is torn between his family and an...              1       1  \n",
       " 1  While Bran recovers from his fall, Ned takes o...              2       1  \n",
       " 2  Jon begins his training with the Night's Watch...              3       1  \n",
       " 3  Eddard investigates Jon Arryn's murder. Jon be...              4       1  \n",
       " 4  Catelyn has captured Tyrion and plans to bring...              5       1  \n",
       " 5  While recovering from his battle with Jaime, E...              6       1  \n",
       " 6  Robert has been injured while hunting and is d...              7       1  \n",
       " 7  The Lannisters press their advantage over the ...              8       1  \n",
       " 8  Robb goes to war against the Lannisters. Jon f...              9       1  \n",
       " 9  Robb vows to get revenge on the Lannisters. Jo...             10       1  ,\n",
       " 2:     ReleaseDate                 EpisodeName Rate     Votes  \\\n",
       " 0   1 Apr. 2012         The North Remembers  8.6  (32,623)   \n",
       " 1   8 Apr. 2012             The Night Lands  8.4  (30,883)   \n",
       " 2  15 Apr. 2012  What Is Dead May Never Die  8.7  (30,548)   \n",
       " 3  22 Apr. 2012             Garden of Bones  8.6  (29,643)   \n",
       " 4  29 Apr. 2012      The Ghost of Harrenhal  8.6  (29,783)   \n",
       " 5    6 May 2012    The Old Gods and the New  8.9  (31,034)   \n",
       " 6   13 May 2012         A Man Without Honor  8.8  (30,222)   \n",
       " 7   20 May 2012    The Prince of Winterfell  8.6  (29,864)   \n",
       " 8   27 May 2012                  Blackwater  9.7  (51,285)   \n",
       " 9   3 Jun. 2012             Valar Morghulis  9.3  (36,385)   \n",
       " \n",
       "                                   EpisodeDescription  EpisodeNumber  Season  \n",
       " 0  Tyrion arrives at King's Landing to take his f...              1       2  \n",
       " 1  Arya makes friends with Gendry. Tyrion tries t...              2       2  \n",
       " 2  Tyrion tries to see who he can trust in the Sm...              3       2  \n",
       " 3  Lord Baelish arrives at Renly's camp just befo...              4       2  \n",
       " 4  Tyrion investigates a secret weapon that King ...              5       2  \n",
       " 5  Theon seizes control of Winterfell. Jon captur...              6       2  \n",
       " 6  Bran and Rickon have escaped Winterfell. Theon...              7       2  \n",
       " 7  Stannis is just days from King's Landing. Tyri...              8       2  \n",
       " 8  Stannis Baratheon's fleet and army arrive at K...              9       2  \n",
       " 9  Joffrey puts Sansa aside for Margaery Tyrell. ...             10       2  ,\n",
       " 3:     ReleaseDate                   EpisodeName Rate      Votes  \\\n",
       " 0  31 Mar. 2013                Valar Dohaeris  8.6   (31,960)   \n",
       " 1   7 Apr. 2013        Dark Wings, Dark Words  8.5   (29,418)   \n",
       " 2  14 Apr. 2013            Walk of Punishment  8.7   (29,736)   \n",
       " 3  21 Apr. 2013    And Now His Watch Is Ended  9.5   (40,066)   \n",
       " 4  28 Apr. 2013                Kissed by Fire  8.9   (30,547)   \n",
       " 5    5 May 2013                     The Climb  8.7   (30,161)   \n",
       " 6   12 May 2013  The Bear and the Maiden Fair  8.6   (29,259)   \n",
       " 7   19 May 2013                   Second Sons  8.9   (29,953)   \n",
       " 8   2 Jun. 2013        The Rains of Castamere  9.9  (111,467)   \n",
       " 9   9 Jun. 2013                         Mhysa  9.1   (33,597)   \n",
       " \n",
       "                                   EpisodeDescription  EpisodeNumber  Season  \n",
       " 0  Jon is brought before Mance Rayder, the King B...              1       3  \n",
       " 1  Bran and company meet Jojen and Meera Reed. Ar...              2       3  \n",
       " 2  Robb and Catelyn arrive at Riverrun for Lord H...              3       3  \n",
       " 3  Jaime mopes over his lost hand. Cersei is grow...              4       3  \n",
       " 4  Robb's army is falling apart. Jaime reveals a ...              5       3  \n",
       " 5  Jon and the wildlings scale the Wall. The Brot...              6       3  \n",
       " 6  Jon and the wildlings travel south of the Wall...              7       3  \n",
       " 7  Daenerys tries to persuade the Second Sons to ...              8       3  \n",
       " 8  Robb and Catelyn arrive at the Twins for the w...              9       3  \n",
       " 9  Bran and company travel beyond the Wall. Sam r...             10       3  ,\n",
       " 4:     ReleaseDate                 EpisodeName Rate     Votes  \\\n",
       " 0   6 Apr. 2014                  Two Swords  9.0  (36,851)   \n",
       " 1  13 Apr. 2014       The Lion and the Rose  9.7  (57,372)   \n",
       " 2  20 Apr. 2014           Breaker of Chains  8.7  (31,785)   \n",
       " 3  27 Apr. 2014                  Oathkeeper  8.7  (30,625)   \n",
       " 4    4 May 2014           First of His Name  8.6  (29,880)   \n",
       " 5   11 May 2014    The Laws of Gods and Men  9.7  (55,256)   \n",
       " 6   18 May 2014                 Mockingbird  9.0  (32,949)   \n",
       " 7   1 Jun. 2014  The Mountain and the Viper  9.7  (57,206)   \n",
       " 8   8 Jun. 2014    The Watchers on the Wall  9.6  (50,022)   \n",
       " 9  15 Jun. 2014                The Children  9.6  (49,040)   \n",
       " \n",
       "                                   EpisodeDescription  EpisodeNumber  Season  \n",
       " 0  Tyrion welcomes a guest to King's Landing. At ...              1       4  \n",
       " 1  Joffrey and Margaery's wedding has come. Tyrio...              2       4  \n",
       " 2  Tyrion is arrested for the murder of Joffrey a...              3       4  \n",
       " 3  Jaime entrusts a task to Brienne. Daenerys fre...              4       4  \n",
       " 4  Tommen is crowned King of the Seven Kingdoms. ...              5       4  \n",
       " 5  Tyrion's trial has come. Yara and her troops s...              6       4  \n",
       " 6  Tyrion tries to find a champion. Daenerys slee...              7       4  \n",
       " 7  Theon helps Ramsay seize Moat Cailin. The wild...              8       4  \n",
       " 8  The battle between the Night's Watch and the w...              9       4  \n",
       " 9  Jon makes an important decision. Daenerys expe...             10       4  ,\n",
       " 5:     ReleaseDate                   EpisodeName Rate      Votes  \\\n",
       " 0  12 Apr. 2015              The Wars to Come  8.3   (32,272)   \n",
       " 1  19 Apr. 2015  The House of Black and White  8.3   (29,126)   \n",
       " 2  26 Apr. 2015                  High Sparrow  8.4   (28,292)   \n",
       " 3    3 May 2015             Sons of the Harpy  8.5   (28,993)   \n",
       " 4   10 May 2015                  Kill the Boy  8.5   (29,160)   \n",
       " 5   17 May 2015     Unbowed, Unbent, Unbroken  7.9   (32,592)   \n",
       " 6   24 May 2015                      The Gift  8.8   (31,491)   \n",
       " 7   31 May 2015                      Hardhome  9.8  (104,297)   \n",
       " 8   7 Jun. 2015          The Dance of Dragons  9.4   (46,166)   \n",
       " 9  14 Jun. 2015                Mother's Mercy  9.1   (44,929)   \n",
       " \n",
       "                                   EpisodeDescription  EpisodeNumber  Season  \n",
       " 0  Cersei and Jaime adjust to a world without Tyw...              1       5  \n",
       " 1  Arya arrives in Braavos. Jaime takes on a secr...              2       5  \n",
       " 2  Tommen and Margaery wed. Arya has trouble adap...              3       5  \n",
       " 3  Jorah Mormont sets sail alongside his prisoner...              4       5  \n",
       " 4  Daenerys arrests the heads of Meereen's great ...              5       5  \n",
       " 5  Arya is put to the test. Tyrion and Jorah are ...              6       5  \n",
       " 6  Jon heads east as trouble begins to stir for S...              7       5  \n",
       " 7  Tyrion advises Daenerys. Sansa forces Theon to...              8       5  \n",
       " 8  Jon and the wildlings return to Castle Black. ...              9       5  \n",
       " 9  Stannis arrives at Winterfell. Tyrion runs Mee...             10       5  ,\n",
       " 6:     ReleaseDate             EpisodeName Rate      Votes  \\\n",
       " 0  24 Apr. 2016           The Red Woman  8.4   (41,869)   \n",
       " 1    1 May 2016                    Home  9.3   (48,871)   \n",
       " 2    8 May 2016             Oathbreaker  8.6   (36,071)   \n",
       " 3   15 May 2016    Book of the Stranger  9.0   (38,714)   \n",
       " 4   22 May 2016                The Door  9.7   (74,704)   \n",
       " 5   29 May 2016       Blood of My Blood  8.3   (35,661)   \n",
       " 6   5 Jun. 2016          The Broken Man  8.5   (34,856)   \n",
       " 7  12 Jun. 2016                  No One  8.3   (39,052)   \n",
       " 8  19 Jun. 2016  Battle of the Bastards  9.9  (216,704)   \n",
       " 9  26 Jun. 2016     The Winds of Winter  9.9  (153,939)   \n",
       " \n",
       "                                   EpisodeDescription  EpisodeNumber  Season  \n",
       " 0  The fate of Jon Snow is revealed. Daenerys is ...              1       6  \n",
       " 1  Bran trains with the Three-Eyed Raven. Tommen ...              2       6  \n",
       " 2  Daenerys arrives at Vaes Dothrak. Sam and Gill...              3       6  \n",
       " 3  Sansa arrives at Castle Black. Tyrion makes a ...              4       6  \n",
       " 4  Sansa and Jon make plans. Arya is given anothe...              5       6  \n",
       " 5  Bran and Meera find a new ally. Gilly meets Sa...              6       6  \n",
       " 6  Jon and Sansa gather troops. Jaime arrives at ...              7       6  \n",
       " 7  Brienne arrives at Riverrun. Arya seeks shelte...              8       6  \n",
       " 8  Jon and Sansa face Ramsay Bolton on the fields...              9       6  \n",
       " 9  Cersei and Loras Tyrell stand trial by the god...             10       6  ,\n",
       " 7:     ReleaseDate              EpisodeName Rate     Votes  \\\n",
       " 0  16 Jul. 2017              Dragonstone  8.5  (52,817)   \n",
       " 1  23 Jul. 2017                Stormborn  8.8  (46,246)   \n",
       " 2  30 Jul. 2017      The Queen's Justice  9.1  (48,523)   \n",
       " 3   6 Aug. 2017        The Spoils of War  9.7  (91,211)   \n",
       " 4  13 Aug. 2017                Eastwatch  8.7  (45,974)   \n",
       " 5  20 Aug. 2017          Beyond the Wall  9.0  (66,567)   \n",
       " 6  27 Aug. 2017  The Dragon and the Wolf  9.4  (66,559)   \n",
       " \n",
       "                                   EpisodeDescription  EpisodeNumber  Season  \n",
       " 0  Jon organizes the North's defenses. Cersei tri...              1       7  \n",
       " 1  Daenerys receives an unexpected visitor. Jon f...              2       7  \n",
       " 2  Jon and Daenerys finally meet. Cersei gains a ...              3       7  \n",
       " 3  Daenerys takes matters into her own hands. Ary...              4       7  \n",
       " 4  Daenerys demands loyalty from the surviving La...              5       7  \n",
       " 5  Jon and his team go beyond the wall to capture...              6       7  \n",
       " 6  Everyone meets in King's Landing to discuss th...              7       7  ,\n",
       " 8:     ReleaseDate                     EpisodeName Rate      Votes  \\\n",
       " 0  14 Apr. 2019                      Winterfell  7.6  (134,926)   \n",
       " 1  21 Apr. 2019  A Knight of the Seven Kingdoms  7.9  (133,543)   \n",
       " 2  28 Apr. 2019                  The Long Night  7.5  (219,998)   \n",
       " 3    5 May 2019          The Last of the Starks  5.5  (167,909)   \n",
       " 4   12 May 2019                       The Bells  6.0  (195,935)   \n",
       " 5   19 May 2019                 The Iron Throne  4.0  (254,527)   \n",
       " \n",
       "                                   EpisodeDescription  EpisodeNumber  Season  \n",
       " 0  Jon and Daenerys arrive in Winterfell and are ...              1       8  \n",
       " 1  Jaime faces judgment and Winterfell prepares f...              2       8  \n",
       " 2  The Night King and his army have arrived at Wi...              3       8  \n",
       " 3  The Battle of Winterfell is over and a new cha...              4       8  \n",
       " 4  Forces have arrived at King's Landing for the ...              5       8  \n",
       " 5  In the aftermath of the devastating attack on ...              6       8  }"
      ]
     },
     "execution_count": 9,
     "metadata": {},
     "output_type": "execute_result"
    }
   ],
   "source": [
    "dataframes"
   ]
  },
  {
   "cell_type": "code",
   "execution_count": 10,
   "id": "0a6383e6",
   "metadata": {},
   "outputs": [
    {
     "data": {
      "text/html": [
       "<div>\n",
       "<style scoped>\n",
       "    .dataframe tbody tr th:only-of-type {\n",
       "        vertical-align: middle;\n",
       "    }\n",
       "\n",
       "    .dataframe tbody tr th {\n",
       "        vertical-align: top;\n",
       "    }\n",
       "\n",
       "    .dataframe thead th {\n",
       "        text-align: right;\n",
       "    }\n",
       "</style>\n",
       "<table border=\"1\" class=\"dataframe\">\n",
       "  <thead>\n",
       "    <tr style=\"text-align: right;\">\n",
       "      <th></th>\n",
       "      <th>ReleaseDate</th>\n",
       "      <th>EpisodeName</th>\n",
       "      <th>Rate</th>\n",
       "      <th>Votes</th>\n",
       "      <th>EpisodeDescription</th>\n",
       "      <th>EpisodeNumber</th>\n",
       "      <th>Season</th>\n",
       "    </tr>\n",
       "  </thead>\n",
       "  <tbody>\n",
       "    <tr>\n",
       "      <th>0</th>\n",
       "      <td>8 May 2011</td>\n",
       "      <td>Winter Is Coming</td>\n",
       "      <td>8.9</td>\n",
       "      <td>(51,554)</td>\n",
       "      <td>Eddard Stark is torn between his family and an...</td>\n",
       "      <td>1</td>\n",
       "      <td>1</td>\n",
       "    </tr>\n",
       "    <tr>\n",
       "      <th>1</th>\n",
       "      <td>15 May 2011</td>\n",
       "      <td>The Kingsroad</td>\n",
       "      <td>8.6</td>\n",
       "      <td>(38,959)</td>\n",
       "      <td>While Bran recovers from his fall, Ned takes o...</td>\n",
       "      <td>2</td>\n",
       "      <td>1</td>\n",
       "    </tr>\n",
       "    <tr>\n",
       "      <th>2</th>\n",
       "      <td>1 May 2011</td>\n",
       "      <td>Lord Snow</td>\n",
       "      <td>8.5</td>\n",
       "      <td>(36,859)</td>\n",
       "      <td>Jon begins his training with the Night's Watch...</td>\n",
       "      <td>3</td>\n",
       "      <td>1</td>\n",
       "    </tr>\n",
       "    <tr>\n",
       "      <th>3</th>\n",
       "      <td>8 May 2011</td>\n",
       "      <td>Cripples, Bastards, and Broken Things</td>\n",
       "      <td>8.6</td>\n",
       "      <td>(35,060)</td>\n",
       "      <td>Eddard investigates Jon Arryn's murder. Jon be...</td>\n",
       "      <td>4</td>\n",
       "      <td>1</td>\n",
       "    </tr>\n",
       "    <tr>\n",
       "      <th>4</th>\n",
       "      <td>15 May 2011</td>\n",
       "      <td>The Wolf and the Lion</td>\n",
       "      <td>9.0</td>\n",
       "      <td>(36,452)</td>\n",
       "      <td>Catelyn has captured Tyrion and plans to bring...</td>\n",
       "      <td>5</td>\n",
       "      <td>1</td>\n",
       "    </tr>\n",
       "    <tr>\n",
       "      <th>...</th>\n",
       "      <td>...</td>\n",
       "      <td>...</td>\n",
       "      <td>...</td>\n",
       "      <td>...</td>\n",
       "      <td>...</td>\n",
       "      <td>...</td>\n",
       "      <td>...</td>\n",
       "    </tr>\n",
       "    <tr>\n",
       "      <th>68</th>\n",
       "      <td>21 Apr. 2019</td>\n",
       "      <td>A Knight of the Seven Kingdoms</td>\n",
       "      <td>7.9</td>\n",
       "      <td>(133,543)</td>\n",
       "      <td>Jaime faces judgment and Winterfell prepares f...</td>\n",
       "      <td>2</td>\n",
       "      <td>8</td>\n",
       "    </tr>\n",
       "    <tr>\n",
       "      <th>69</th>\n",
       "      <td>28 Apr. 2019</td>\n",
       "      <td>The Long Night</td>\n",
       "      <td>7.5</td>\n",
       "      <td>(219,998)</td>\n",
       "      <td>The Night King and his army have arrived at Wi...</td>\n",
       "      <td>3</td>\n",
       "      <td>8</td>\n",
       "    </tr>\n",
       "    <tr>\n",
       "      <th>70</th>\n",
       "      <td>5 May 2019</td>\n",
       "      <td>The Last of the Starks</td>\n",
       "      <td>5.5</td>\n",
       "      <td>(167,909)</td>\n",
       "      <td>The Battle of Winterfell is over and a new cha...</td>\n",
       "      <td>4</td>\n",
       "      <td>8</td>\n",
       "    </tr>\n",
       "    <tr>\n",
       "      <th>71</th>\n",
       "      <td>12 May 2019</td>\n",
       "      <td>The Bells</td>\n",
       "      <td>6.0</td>\n",
       "      <td>(195,935)</td>\n",
       "      <td>Forces have arrived at King's Landing for the ...</td>\n",
       "      <td>5</td>\n",
       "      <td>8</td>\n",
       "    </tr>\n",
       "    <tr>\n",
       "      <th>72</th>\n",
       "      <td>19 May 2019</td>\n",
       "      <td>The Iron Throne</td>\n",
       "      <td>4.0</td>\n",
       "      <td>(254,527)</td>\n",
       "      <td>In the aftermath of the devastating attack on ...</td>\n",
       "      <td>6</td>\n",
       "      <td>8</td>\n",
       "    </tr>\n",
       "  </tbody>\n",
       "</table>\n",
       "<p>73 rows × 7 columns</p>\n",
       "</div>"
      ],
      "text/plain": [
       "     ReleaseDate                            EpisodeName Rate      Votes  \\\n",
       "0     8 May 2011                       Winter Is Coming  8.9   (51,554)   \n",
       "1    15 May 2011                          The Kingsroad  8.6   (38,959)   \n",
       "2     1 May 2011                              Lord Snow  8.5   (36,859)   \n",
       "3     8 May 2011  Cripples, Bastards, and Broken Things  8.6   (35,060)   \n",
       "4    15 May 2011                  The Wolf and the Lion  9.0   (36,452)   \n",
       "..           ...                                    ...  ...        ...   \n",
       "68  21 Apr. 2019         A Knight of the Seven Kingdoms  7.9  (133,543)   \n",
       "69  28 Apr. 2019                         The Long Night  7.5  (219,998)   \n",
       "70    5 May 2019                 The Last of the Starks  5.5  (167,909)   \n",
       "71   12 May 2019                              The Bells  6.0  (195,935)   \n",
       "72   19 May 2019                        The Iron Throne  4.0  (254,527)   \n",
       "\n",
       "                                   EpisodeDescription  EpisodeNumber  Season  \n",
       "0   Eddard Stark is torn between his family and an...              1       1  \n",
       "1   While Bran recovers from his fall, Ned takes o...              2       1  \n",
       "2   Jon begins his training with the Night's Watch...              3       1  \n",
       "3   Eddard investigates Jon Arryn's murder. Jon be...              4       1  \n",
       "4   Catelyn has captured Tyrion and plans to bring...              5       1  \n",
       "..                                                ...            ...     ...  \n",
       "68  Jaime faces judgment and Winterfell prepares f...              2       8  \n",
       "69  The Night King and his army have arrived at Wi...              3       8  \n",
       "70  The Battle of Winterfell is over and a new cha...              4       8  \n",
       "71  Forces have arrived at King's Landing for the ...              5       8  \n",
       "72  In the aftermath of the devastating attack on ...              6       8  \n",
       "\n",
       "[73 rows x 7 columns]"
      ]
     },
     "execution_count": 10,
     "metadata": {},
     "output_type": "execute_result"
    }
   ],
   "source": [
    "# Concatenate the dataframes into a single dataframe\n",
    "concatenated_df = pd.concat(dataframes.values(), ignore_index=True)\n",
    "\n",
    "# Reset the index of the concatenated dataframe\n",
    "concatenated_df.reset_index(drop=True, inplace=True)\n",
    "\n",
    "# Print the concatenated dataframe\n",
    "concatenated_df"
   ]
  },
  {
   "cell_type": "code",
   "execution_count": 11,
   "id": "deae5f35",
   "metadata": {},
   "outputs": [],
   "source": [
    "BreakingBad = concatenated_df.sort_values(by=['Season', 'EpisodeNumber'])"
   ]
  },
  {
   "cell_type": "code",
   "execution_count": 12,
   "id": "fde9e359",
   "metadata": {},
   "outputs": [
    {
     "name": "stdout",
     "output_type": "stream",
     "text": [
      "<class 'pandas.core.frame.DataFrame'>\n",
      "Int64Index: 73 entries, 0 to 72\n",
      "Data columns (total 7 columns):\n",
      " #   Column              Non-Null Count  Dtype \n",
      "---  ------              --------------  ----- \n",
      " 0   ReleaseDate         73 non-null     object\n",
      " 1   EpisodeName         73 non-null     object\n",
      " 2   Rate                73 non-null     object\n",
      " 3   Votes               73 non-null     object\n",
      " 4   EpisodeDescription  73 non-null     object\n",
      " 5   EpisodeNumber       73 non-null     int32 \n",
      " 6   Season              73 non-null     int64 \n",
      "dtypes: int32(1), int64(1), object(5)\n",
      "memory usage: 4.3+ KB\n"
     ]
    }
   ],
   "source": [
    "BreakingBad.info()"
   ]
  },
  {
   "cell_type": "code",
   "execution_count": 13,
   "id": "05c244bc",
   "metadata": {},
   "outputs": [],
   "source": [
    "BreakingBad['Rate'] = BreakingBad['Rate'].apply(lambda x: float(x))\n",
    "BreakingBad['Votes'] = BreakingBad['Votes'].apply(lambda x: int(x[1:-1].replace(',', '')))"
   ]
  },
  {
   "cell_type": "code",
   "execution_count": 14,
   "id": "3a719d98",
   "metadata": {},
   "outputs": [
    {
     "data": {
      "text/html": [
       "<div>\n",
       "<style scoped>\n",
       "    .dataframe tbody tr th:only-of-type {\n",
       "        vertical-align: middle;\n",
       "    }\n",
       "\n",
       "    .dataframe tbody tr th {\n",
       "        vertical-align: top;\n",
       "    }\n",
       "\n",
       "    .dataframe thead th {\n",
       "        text-align: right;\n",
       "    }\n",
       "</style>\n",
       "<table border=\"1\" class=\"dataframe\">\n",
       "  <thead>\n",
       "    <tr style=\"text-align: right;\">\n",
       "      <th></th>\n",
       "      <th>ReleaseDate</th>\n",
       "      <th>EpisodeName</th>\n",
       "      <th>Rate</th>\n",
       "      <th>Votes</th>\n",
       "      <th>EpisodeDescription</th>\n",
       "      <th>EpisodeNumber</th>\n",
       "      <th>Season</th>\n",
       "    </tr>\n",
       "  </thead>\n",
       "  <tbody>\n",
       "    <tr>\n",
       "      <th>0</th>\n",
       "      <td>8 May 2011</td>\n",
       "      <td>Winter Is Coming</td>\n",
       "      <td>8.9</td>\n",
       "      <td>51554</td>\n",
       "      <td>Eddard Stark is torn between his family and an...</td>\n",
       "      <td>1</td>\n",
       "      <td>1</td>\n",
       "    </tr>\n",
       "    <tr>\n",
       "      <th>1</th>\n",
       "      <td>15 May 2011</td>\n",
       "      <td>The Kingsroad</td>\n",
       "      <td>8.6</td>\n",
       "      <td>38959</td>\n",
       "      <td>While Bran recovers from his fall, Ned takes o...</td>\n",
       "      <td>2</td>\n",
       "      <td>1</td>\n",
       "    </tr>\n",
       "    <tr>\n",
       "      <th>2</th>\n",
       "      <td>1 May 2011</td>\n",
       "      <td>Lord Snow</td>\n",
       "      <td>8.5</td>\n",
       "      <td>36859</td>\n",
       "      <td>Jon begins his training with the Night's Watch...</td>\n",
       "      <td>3</td>\n",
       "      <td>1</td>\n",
       "    </tr>\n",
       "    <tr>\n",
       "      <th>3</th>\n",
       "      <td>8 May 2011</td>\n",
       "      <td>Cripples, Bastards, and Broken Things</td>\n",
       "      <td>8.6</td>\n",
       "      <td>35060</td>\n",
       "      <td>Eddard investigates Jon Arryn's murder. Jon be...</td>\n",
       "      <td>4</td>\n",
       "      <td>1</td>\n",
       "    </tr>\n",
       "    <tr>\n",
       "      <th>4</th>\n",
       "      <td>15 May 2011</td>\n",
       "      <td>The Wolf and the Lion</td>\n",
       "      <td>9.0</td>\n",
       "      <td>36452</td>\n",
       "      <td>Catelyn has captured Tyrion and plans to bring...</td>\n",
       "      <td>5</td>\n",
       "      <td>1</td>\n",
       "    </tr>\n",
       "    <tr>\n",
       "      <th>...</th>\n",
       "      <td>...</td>\n",
       "      <td>...</td>\n",
       "      <td>...</td>\n",
       "      <td>...</td>\n",
       "      <td>...</td>\n",
       "      <td>...</td>\n",
       "      <td>...</td>\n",
       "    </tr>\n",
       "    <tr>\n",
       "      <th>68</th>\n",
       "      <td>21 Apr. 2019</td>\n",
       "      <td>A Knight of the Seven Kingdoms</td>\n",
       "      <td>7.9</td>\n",
       "      <td>133543</td>\n",
       "      <td>Jaime faces judgment and Winterfell prepares f...</td>\n",
       "      <td>2</td>\n",
       "      <td>8</td>\n",
       "    </tr>\n",
       "    <tr>\n",
       "      <th>69</th>\n",
       "      <td>28 Apr. 2019</td>\n",
       "      <td>The Long Night</td>\n",
       "      <td>7.5</td>\n",
       "      <td>219998</td>\n",
       "      <td>The Night King and his army have arrived at Wi...</td>\n",
       "      <td>3</td>\n",
       "      <td>8</td>\n",
       "    </tr>\n",
       "    <tr>\n",
       "      <th>70</th>\n",
       "      <td>5 May 2019</td>\n",
       "      <td>The Last of the Starks</td>\n",
       "      <td>5.5</td>\n",
       "      <td>167909</td>\n",
       "      <td>The Battle of Winterfell is over and a new cha...</td>\n",
       "      <td>4</td>\n",
       "      <td>8</td>\n",
       "    </tr>\n",
       "    <tr>\n",
       "      <th>71</th>\n",
       "      <td>12 May 2019</td>\n",
       "      <td>The Bells</td>\n",
       "      <td>6.0</td>\n",
       "      <td>195935</td>\n",
       "      <td>Forces have arrived at King's Landing for the ...</td>\n",
       "      <td>5</td>\n",
       "      <td>8</td>\n",
       "    </tr>\n",
       "    <tr>\n",
       "      <th>72</th>\n",
       "      <td>19 May 2019</td>\n",
       "      <td>The Iron Throne</td>\n",
       "      <td>4.0</td>\n",
       "      <td>254527</td>\n",
       "      <td>In the aftermath of the devastating attack on ...</td>\n",
       "      <td>6</td>\n",
       "      <td>8</td>\n",
       "    </tr>\n",
       "  </tbody>\n",
       "</table>\n",
       "<p>73 rows × 7 columns</p>\n",
       "</div>"
      ],
      "text/plain": [
       "     ReleaseDate                            EpisodeName  Rate   Votes  \\\n",
       "0     8 May 2011                       Winter Is Coming   8.9   51554   \n",
       "1    15 May 2011                          The Kingsroad   8.6   38959   \n",
       "2     1 May 2011                              Lord Snow   8.5   36859   \n",
       "3     8 May 2011  Cripples, Bastards, and Broken Things   8.6   35060   \n",
       "4    15 May 2011                  The Wolf and the Lion   9.0   36452   \n",
       "..           ...                                    ...   ...     ...   \n",
       "68  21 Apr. 2019         A Knight of the Seven Kingdoms   7.9  133543   \n",
       "69  28 Apr. 2019                         The Long Night   7.5  219998   \n",
       "70    5 May 2019                 The Last of the Starks   5.5  167909   \n",
       "71   12 May 2019                              The Bells   6.0  195935   \n",
       "72   19 May 2019                        The Iron Throne   4.0  254527   \n",
       "\n",
       "                                   EpisodeDescription  EpisodeNumber  Season  \n",
       "0   Eddard Stark is torn between his family and an...              1       1  \n",
       "1   While Bran recovers from his fall, Ned takes o...              2       1  \n",
       "2   Jon begins his training with the Night's Watch...              3       1  \n",
       "3   Eddard investigates Jon Arryn's murder. Jon be...              4       1  \n",
       "4   Catelyn has captured Tyrion and plans to bring...              5       1  \n",
       "..                                                ...            ...     ...  \n",
       "68  Jaime faces judgment and Winterfell prepares f...              2       8  \n",
       "69  The Night King and his army have arrived at Wi...              3       8  \n",
       "70  The Battle of Winterfell is over and a new cha...              4       8  \n",
       "71  Forces have arrived at King's Landing for the ...              5       8  \n",
       "72  In the aftermath of the devastating attack on ...              6       8  \n",
       "\n",
       "[73 rows x 7 columns]"
      ]
     },
     "execution_count": 14,
     "metadata": {},
     "output_type": "execute_result"
    }
   ],
   "source": [
    "BreakingBad"
   ]
  },
  {
   "cell_type": "code",
   "execution_count": 15,
   "id": "531231ca",
   "metadata": {},
   "outputs": [
    {
     "data": {
      "text/html": [
       "<div>\n",
       "<style scoped>\n",
       "    .dataframe tbody tr th:only-of-type {\n",
       "        vertical-align: middle;\n",
       "    }\n",
       "\n",
       "    .dataframe tbody tr th {\n",
       "        vertical-align: top;\n",
       "    }\n",
       "\n",
       "    .dataframe thead th {\n",
       "        text-align: right;\n",
       "    }\n",
       "</style>\n",
       "<table border=\"1\" class=\"dataframe\">\n",
       "  <thead>\n",
       "    <tr style=\"text-align: right;\">\n",
       "      <th></th>\n",
       "      <th>ReleaseDate</th>\n",
       "      <th>EpisodeName</th>\n",
       "      <th>Rate</th>\n",
       "      <th>Votes</th>\n",
       "      <th>EpisodeDescription</th>\n",
       "      <th>EpisodeNumber</th>\n",
       "      <th>Season</th>\n",
       "    </tr>\n",
       "  </thead>\n",
       "  <tbody>\n",
       "    <tr>\n",
       "      <th>58</th>\n",
       "      <td>19 Jun. 2016</td>\n",
       "      <td>Battle of the Bastards</td>\n",
       "      <td>9.9</td>\n",
       "      <td>216704</td>\n",
       "      <td>Jon and Sansa face Ramsay Bolton on the fields...</td>\n",
       "      <td>9</td>\n",
       "      <td>6</td>\n",
       "    </tr>\n",
       "    <tr>\n",
       "      <th>59</th>\n",
       "      <td>26 Jun. 2016</td>\n",
       "      <td>The Winds of Winter</td>\n",
       "      <td>9.9</td>\n",
       "      <td>153939</td>\n",
       "      <td>Cersei and Loras Tyrell stand trial by the god...</td>\n",
       "      <td>10</td>\n",
       "      <td>6</td>\n",
       "    </tr>\n",
       "    <tr>\n",
       "      <th>28</th>\n",
       "      <td>2 Jun. 2013</td>\n",
       "      <td>The Rains of Castamere</td>\n",
       "      <td>9.9</td>\n",
       "      <td>111467</td>\n",
       "      <td>Robb and Catelyn arrive at the Twins for the w...</td>\n",
       "      <td>9</td>\n",
       "      <td>3</td>\n",
       "    </tr>\n",
       "    <tr>\n",
       "      <th>47</th>\n",
       "      <td>31 May 2015</td>\n",
       "      <td>Hardhome</td>\n",
       "      <td>9.8</td>\n",
       "      <td>104297</td>\n",
       "      <td>Tyrion advises Daenerys. Sansa forces Theon to...</td>\n",
       "      <td>8</td>\n",
       "      <td>5</td>\n",
       "    </tr>\n",
       "    <tr>\n",
       "      <th>63</th>\n",
       "      <td>6 Aug. 2017</td>\n",
       "      <td>The Spoils of War</td>\n",
       "      <td>9.7</td>\n",
       "      <td>91211</td>\n",
       "      <td>Daenerys takes matters into her own hands. Ary...</td>\n",
       "      <td>4</td>\n",
       "      <td>7</td>\n",
       "    </tr>\n",
       "    <tr>\n",
       "      <th>54</th>\n",
       "      <td>22 May 2016</td>\n",
       "      <td>The Door</td>\n",
       "      <td>9.7</td>\n",
       "      <td>74704</td>\n",
       "      <td>Sansa and Jon make plans. Arya is given anothe...</td>\n",
       "      <td>5</td>\n",
       "      <td>6</td>\n",
       "    </tr>\n",
       "    <tr>\n",
       "      <th>31</th>\n",
       "      <td>13 Apr. 2014</td>\n",
       "      <td>The Lion and the Rose</td>\n",
       "      <td>9.7</td>\n",
       "      <td>57372</td>\n",
       "      <td>Joffrey and Margaery's wedding has come. Tyrio...</td>\n",
       "      <td>2</td>\n",
       "      <td>4</td>\n",
       "    </tr>\n",
       "    <tr>\n",
       "      <th>37</th>\n",
       "      <td>1 Jun. 2014</td>\n",
       "      <td>The Mountain and the Viper</td>\n",
       "      <td>9.7</td>\n",
       "      <td>57206</td>\n",
       "      <td>Theon helps Ramsay seize Moat Cailin. The wild...</td>\n",
       "      <td>8</td>\n",
       "      <td>4</td>\n",
       "    </tr>\n",
       "    <tr>\n",
       "      <th>35</th>\n",
       "      <td>11 May 2014</td>\n",
       "      <td>The Laws of Gods and Men</td>\n",
       "      <td>9.7</td>\n",
       "      <td>55256</td>\n",
       "      <td>Tyrion's trial has come. Yara and her troops s...</td>\n",
       "      <td>6</td>\n",
       "      <td>4</td>\n",
       "    </tr>\n",
       "    <tr>\n",
       "      <th>18</th>\n",
       "      <td>27 May 2012</td>\n",
       "      <td>Blackwater</td>\n",
       "      <td>9.7</td>\n",
       "      <td>51285</td>\n",
       "      <td>Stannis Baratheon's fleet and army arrive at K...</td>\n",
       "      <td>9</td>\n",
       "      <td>2</td>\n",
       "    </tr>\n",
       "  </tbody>\n",
       "</table>\n",
       "</div>"
      ],
      "text/plain": [
       "     ReleaseDate                 EpisodeName  Rate   Votes  \\\n",
       "58  19 Jun. 2016      Battle of the Bastards   9.9  216704   \n",
       "59  26 Jun. 2016         The Winds of Winter   9.9  153939   \n",
       "28   2 Jun. 2013      The Rains of Castamere   9.9  111467   \n",
       "47   31 May 2015                    Hardhome   9.8  104297   \n",
       "63   6 Aug. 2017           The Spoils of War   9.7   91211   \n",
       "54   22 May 2016                    The Door   9.7   74704   \n",
       "31  13 Apr. 2014       The Lion and the Rose   9.7   57372   \n",
       "37   1 Jun. 2014  The Mountain and the Viper   9.7   57206   \n",
       "35   11 May 2014    The Laws of Gods and Men   9.7   55256   \n",
       "18   27 May 2012                  Blackwater   9.7   51285   \n",
       "\n",
       "                                   EpisodeDescription  EpisodeNumber  Season  \n",
       "58  Jon and Sansa face Ramsay Bolton on the fields...              9       6  \n",
       "59  Cersei and Loras Tyrell stand trial by the god...             10       6  \n",
       "28  Robb and Catelyn arrive at the Twins for the w...              9       3  \n",
       "47  Tyrion advises Daenerys. Sansa forces Theon to...              8       5  \n",
       "63  Daenerys takes matters into her own hands. Ary...              4       7  \n",
       "54  Sansa and Jon make plans. Arya is given anothe...              5       6  \n",
       "31  Joffrey and Margaery's wedding has come. Tyrio...              2       4  \n",
       "37  Theon helps Ramsay seize Moat Cailin. The wild...              8       4  \n",
       "35  Tyrion's trial has come. Yara and her troops s...              6       4  \n",
       "18  Stannis Baratheon's fleet and army arrive at K...              9       2  "
      ]
     },
     "execution_count": 15,
     "metadata": {},
     "output_type": "execute_result"
    }
   ],
   "source": [
    "BreakingBad.sort_values(by=['Rate', 'Votes'], ascending=False)[0:10]"
   ]
  },
  {
   "cell_type": "code",
   "execution_count": 16,
   "id": "c26d4919",
   "metadata": {},
   "outputs": [
    {
     "data": {
      "text/html": [
       "<div>\n",
       "<style scoped>\n",
       "    .dataframe tbody tr th:only-of-type {\n",
       "        vertical-align: middle;\n",
       "    }\n",
       "\n",
       "    .dataframe tbody tr th {\n",
       "        vertical-align: top;\n",
       "    }\n",
       "\n",
       "    .dataframe thead th {\n",
       "        text-align: right;\n",
       "    }\n",
       "</style>\n",
       "<table border=\"1\" class=\"dataframe\">\n",
       "  <thead>\n",
       "    <tr style=\"text-align: right;\">\n",
       "      <th></th>\n",
       "      <th>ReleaseDate</th>\n",
       "      <th>EpisodeName</th>\n",
       "      <th>Rate</th>\n",
       "      <th>Votes</th>\n",
       "      <th>EpisodeDescription</th>\n",
       "      <th>EpisodeNumber</th>\n",
       "      <th>Season</th>\n",
       "    </tr>\n",
       "  </thead>\n",
       "  <tbody>\n",
       "    <tr>\n",
       "      <th>72</th>\n",
       "      <td>19 May 2019</td>\n",
       "      <td>The Iron Throne</td>\n",
       "      <td>4.0</td>\n",
       "      <td>254527</td>\n",
       "      <td>In the aftermath of the devastating attack on ...</td>\n",
       "      <td>6</td>\n",
       "      <td>8</td>\n",
       "    </tr>\n",
       "    <tr>\n",
       "      <th>69</th>\n",
       "      <td>28 Apr. 2019</td>\n",
       "      <td>The Long Night</td>\n",
       "      <td>7.5</td>\n",
       "      <td>219998</td>\n",
       "      <td>The Night King and his army have arrived at Wi...</td>\n",
       "      <td>3</td>\n",
       "      <td>8</td>\n",
       "    </tr>\n",
       "    <tr>\n",
       "      <th>58</th>\n",
       "      <td>19 Jun. 2016</td>\n",
       "      <td>Battle of the Bastards</td>\n",
       "      <td>9.9</td>\n",
       "      <td>216704</td>\n",
       "      <td>Jon and Sansa face Ramsay Bolton on the fields...</td>\n",
       "      <td>9</td>\n",
       "      <td>6</td>\n",
       "    </tr>\n",
       "    <tr>\n",
       "      <th>71</th>\n",
       "      <td>12 May 2019</td>\n",
       "      <td>The Bells</td>\n",
       "      <td>6.0</td>\n",
       "      <td>195935</td>\n",
       "      <td>Forces have arrived at King's Landing for the ...</td>\n",
       "      <td>5</td>\n",
       "      <td>8</td>\n",
       "    </tr>\n",
       "    <tr>\n",
       "      <th>70</th>\n",
       "      <td>5 May 2019</td>\n",
       "      <td>The Last of the Starks</td>\n",
       "      <td>5.5</td>\n",
       "      <td>167909</td>\n",
       "      <td>The Battle of Winterfell is over and a new cha...</td>\n",
       "      <td>4</td>\n",
       "      <td>8</td>\n",
       "    </tr>\n",
       "    <tr>\n",
       "      <th>59</th>\n",
       "      <td>26 Jun. 2016</td>\n",
       "      <td>The Winds of Winter</td>\n",
       "      <td>9.9</td>\n",
       "      <td>153939</td>\n",
       "      <td>Cersei and Loras Tyrell stand trial by the god...</td>\n",
       "      <td>10</td>\n",
       "      <td>6</td>\n",
       "    </tr>\n",
       "    <tr>\n",
       "      <th>67</th>\n",
       "      <td>14 Apr. 2019</td>\n",
       "      <td>Winterfell</td>\n",
       "      <td>7.6</td>\n",
       "      <td>134926</td>\n",
       "      <td>Jon and Daenerys arrive in Winterfell and are ...</td>\n",
       "      <td>1</td>\n",
       "      <td>8</td>\n",
       "    </tr>\n",
       "    <tr>\n",
       "      <th>68</th>\n",
       "      <td>21 Apr. 2019</td>\n",
       "      <td>A Knight of the Seven Kingdoms</td>\n",
       "      <td>7.9</td>\n",
       "      <td>133543</td>\n",
       "      <td>Jaime faces judgment and Winterfell prepares f...</td>\n",
       "      <td>2</td>\n",
       "      <td>8</td>\n",
       "    </tr>\n",
       "    <tr>\n",
       "      <th>28</th>\n",
       "      <td>2 Jun. 2013</td>\n",
       "      <td>The Rains of Castamere</td>\n",
       "      <td>9.9</td>\n",
       "      <td>111467</td>\n",
       "      <td>Robb and Catelyn arrive at the Twins for the w...</td>\n",
       "      <td>9</td>\n",
       "      <td>3</td>\n",
       "    </tr>\n",
       "    <tr>\n",
       "      <th>47</th>\n",
       "      <td>31 May 2015</td>\n",
       "      <td>Hardhome</td>\n",
       "      <td>9.8</td>\n",
       "      <td>104297</td>\n",
       "      <td>Tyrion advises Daenerys. Sansa forces Theon to...</td>\n",
       "      <td>8</td>\n",
       "      <td>5</td>\n",
       "    </tr>\n",
       "  </tbody>\n",
       "</table>\n",
       "</div>"
      ],
      "text/plain": [
       "     ReleaseDate                     EpisodeName  Rate   Votes  \\\n",
       "72   19 May 2019                 The Iron Throne   4.0  254527   \n",
       "69  28 Apr. 2019                  The Long Night   7.5  219998   \n",
       "58  19 Jun. 2016          Battle of the Bastards   9.9  216704   \n",
       "71   12 May 2019                       The Bells   6.0  195935   \n",
       "70    5 May 2019          The Last of the Starks   5.5  167909   \n",
       "59  26 Jun. 2016             The Winds of Winter   9.9  153939   \n",
       "67  14 Apr. 2019                      Winterfell   7.6  134926   \n",
       "68  21 Apr. 2019  A Knight of the Seven Kingdoms   7.9  133543   \n",
       "28   2 Jun. 2013          The Rains of Castamere   9.9  111467   \n",
       "47   31 May 2015                        Hardhome   9.8  104297   \n",
       "\n",
       "                                   EpisodeDescription  EpisodeNumber  Season  \n",
       "72  In the aftermath of the devastating attack on ...              6       8  \n",
       "69  The Night King and his army have arrived at Wi...              3       8  \n",
       "58  Jon and Sansa face Ramsay Bolton on the fields...              9       6  \n",
       "71  Forces have arrived at King's Landing for the ...              5       8  \n",
       "70  The Battle of Winterfell is over and a new cha...              4       8  \n",
       "59  Cersei and Loras Tyrell stand trial by the god...             10       6  \n",
       "67  Jon and Daenerys arrive in Winterfell and are ...              1       8  \n",
       "68  Jaime faces judgment and Winterfell prepares f...              2       8  \n",
       "28  Robb and Catelyn arrive at the Twins for the w...              9       3  \n",
       "47  Tyrion advises Daenerys. Sansa forces Theon to...              8       5  "
      ]
     },
     "execution_count": 16,
     "metadata": {},
     "output_type": "execute_result"
    }
   ],
   "source": [
    "BreakingBad.sort_values(by='Votes', ascending=False)[0:10]"
   ]
  },
  {
   "cell_type": "code",
   "execution_count": 17,
   "id": "ce9dff93",
   "metadata": {},
   "outputs": [
    {
     "data": {
      "text/plain": [
       "array([\"Robb and Catelyn arrive at the Twins for the wedding. Jon is put to the test to see where his loyalties truly lie. Bran's group decides to split up. Daenerys plans an invasion of Yunkai.\",\n",
       "       'Cersei and Loras Tyrell stand trial by the gods. Daenerys prepares to set sail for Westeros. Davos confronts Melisandre. Sam and Gilly arrive in the Citadel. Bran discovers a long-kept secret. Lord Frey has an uninvited guest.',\n",
       "       'Jon and Sansa face Ramsay Bolton on the fields of Winterfell. Daenerys strikes back at her enemies. Theon and Yara arrive in Meereen.',\n",
       "       'Tyrion advises Daenerys. Sansa forces Theon to tell her a secret. Cersei remains stubborn. Arya meets her first target. Jon and Tormund meet with the wildling elders.',\n",
       "       \"Theon helps Ramsay seize Moat Cailin. The wildlings attack Mole's Town. Sansa comes up with a story to protect Lord Baelish. Daenerys finds out a secret about Jorah Mormont. Oberyn Martell faces Gregor Clegane, the Mountain.\",\n",
       "       'Daenerys takes matters into her own hands. Arya reaches her destination. Jaime and Bronn collect the spoils from the war with the Tyrells.',\n",
       "       \"Tyrion's trial has come. Yara and her troops storm the Dreadfort to free Theon. Daenerys meets Hizdar zo Loraq. Stannis makes a deal with the Iron Bank of Braavos.\",\n",
       "       'Sansa and Jon make plans. Arya is given another chance to prove herself. Jorah confesses a secret to Daenerys. Tyrion meets with a red priestess. Yara finds her rule tested. Bran discovers the origin of the White Walkers.',\n",
       "       \"Joffrey and Margaery's wedding has come. Tyrion breaks up with Shae. Ramsay tries to prove his worth to his father. Bran and company find a Weirwood tree.\",\n",
       "       \"Stannis Baratheon's fleet and army arrive at King's Landing and the battle for the city begins. Cersei plans for her and her children's future.\"],\n",
       "      dtype=object)"
      ]
     },
     "execution_count": 17,
     "metadata": {},
     "output_type": "execute_result"
    }
   ],
   "source": [
    "BreakingBad.sort_values(by='Rate', ascending=False)[0:10]['EpisodeDescription'].values"
   ]
  },
  {
   "cell_type": "code",
   "execution_count": 18,
   "id": "9c7cfe1a",
   "metadata": {},
   "outputs": [],
   "source": [
    "aggs_by_cols = {'Rate': [np.min, np.max, np.ptp, np.mean, np.median],\n",
    "                'Votes': [np.min, np.max, np.sum, np.mean, np.median]}\n",
    "\n",
    "BreakingBadGroupby = BreakingBad.groupby('Season').agg(aggs_by_cols)"
   ]
  },
  {
   "cell_type": "code",
   "execution_count": 19,
   "id": "be82ae6e",
   "metadata": {
    "scrolled": false
   },
   "outputs": [
    {
     "data": {
      "image/png": "[encoded data removed]",
      "text/plain": [
       "<Figure size 1080x504 with 1 Axes>"
      ]
     },
     "metadata": {
      "needs_background": "light"
     },
     "output_type": "display_data"
    },
    {
     "data": {
      "image/png": "[encoded data removed]",
      "text/plain": [
       "<Figure size 1080x504 with 1 Axes>"
      ]
     },
     "metadata": {
      "needs_background": "light"
     },
     "output_type": "display_data"
    },
    {
     "data": {
      "image/png": "[encoded data removed]",
      "text/plain": [
       "<Figure size 1080x504 with 1 Axes>"
      ]
     },
     "metadata": {
      "needs_background": "light"
     },
     "output_type": "display_data"
    },
    {
     "data": {
      "image/png": "[encoded data removed]",
      "text/plain": [
       "<Figure size 1080x504 with 1 Axes>"
      ]
     },
     "metadata": {
      "needs_background": "light"
     },
     "output_type": "display_data"
    },
    {
     "data": {
      "image/png": "[encoded data removed]",
      "text/plain": [
       "<Figure size 1080x504 with 1 Axes>"
      ]
     },
     "metadata": {
      "needs_background": "light"
     },
     "output_type": "display_data"
    },
    {
     "data": {
      "image/png": "[encoded data removed]",
      "text/plain": [
       "<Figure size 1080x504 with 1 Axes>"
      ]
     },
     "metadata": {
      "needs_background": "light"
     },
     "output_type": "display_data"
    },
    {
     "data": {
      "image/png": "[encoded data removed]",
      "text/plain": [
       "<Figure size 1080x504 with 1 Axes>"
      ]
     },
     "metadata": {
      "needs_background": "light"
     },
     "output_type": "display_data"
    },
    {
     "data": {
      "image/png": "[encoded data removed]",
      "text/plain": [
       "<Figure size 1080x504 with 1 Axes>"
      ]
     },
     "metadata": {
      "needs_background": "light"
     },
     "output_type": "display_data"
    },
    {
     "data": {
      "image/png": "[encoded data removed]",
      "text/plain": [
       "<Figure size 1080x504 with 1 Axes>"
      ]
     },
     "metadata": {
      "needs_background": "light"
     },
     "output_type": "display_data"
    },
    {
     "data": {
      "image/png": "[encoded data removed]",
      "text/plain": [
       "<Figure size 1080x504 with 1 Axes>"
      ]
     },
     "metadata": {
      "needs_background": "light"
     },
     "output_type": "display_data"
    }
   ],
   "source": [
    "for item in BreakingBadGroupby.columns:\n",
    "    fig, ax = plt.subplots(figsize=(15, 7))\n",
    "    BreakingBadGroupby[item].plot(kind='bar')\n",
    "    ax.set_title(item)\n",
    "    ax.set_ylabel('Rate')\n",
    "    ax.set_xlabel('Season')\n",
    "    add_value_labels(ax)"
   ]
  },
  {
   "cell_type": "code",
   "execution_count": 20,
   "id": "ea5ca091",
   "metadata": {},
   "outputs": [],
   "source": [
    "SeasonFinale = {}\n",
    "for season in BreakingBad.Season.unique():\n",
    "    SeasonFinale[season] = get_rate(BreakingBad, season)"
   ]
  },
  {
   "cell_type": "code",
   "execution_count": 21,
   "id": "29e0f059",
   "metadata": {},
   "outputs": [
    {
     "data": {
      "text/plain": [
       "{1: 9.4, 2: 9.3, 3: 9.1, 4: 9.6, 5: 9.1, 6: 9.9, 7: 9.4, 8: 4.0}"
      ]
     },
     "execution_count": 21,
     "metadata": {},
     "output_type": "execute_result"
    }
   ],
   "source": [
    "SeasonFinale"
   ]
  },
  {
   "cell_type": "code",
   "execution_count": 22,
   "id": "f7a873ce",
   "metadata": {},
   "outputs": [
    {
     "data": {
      "text/plain": [
       "([<matplotlib.axis.XTick at 0x2432300b280>,\n",
       "  <matplotlib.axis.XTick at 0x2432300b2e0>,\n",
       "  <matplotlib.axis.XTick at 0x2432300bc10>,\n",
       "  <matplotlib.axis.XTick at 0x243236d0eb0>,\n",
       "  <matplotlib.axis.XTick at 0x243236c9640>,\n",
       "  <matplotlib.axis.XTick at 0x243236c9d90>,\n",
       "  <matplotlib.axis.XTick at 0x243236c1520>,\n",
       "  <matplotlib.axis.XTick at 0x243236c97f0>],\n",
       " [Text(0, 0, ''),\n",
       "  Text(0, 0, ''),\n",
       "  Text(0, 0, ''),\n",
       "  Text(0, 0, ''),\n",
       "  Text(0, 0, ''),\n",
       "  Text(0, 0, ''),\n",
       "  Text(0, 0, ''),\n",
       "  Text(0, 0, '')])"
      ]
     },
     "execution_count": 22,
     "metadata": {},
     "output_type": "execute_result"
    },
    {
     "data": {
      "image/png": "[encoded data removed]",
      "text/plain": [
       "<Figure size 1080x504 with 1 Axes>"
      ]
     },
     "metadata": {
      "needs_background": "light"
     },
     "output_type": "display_data"
    }
   ],
   "source": [
    "fig, ax = plt.subplots(figsize=(15,7))\n",
    "plt.bar(SeasonFinale.keys(), SeasonFinale.values())\n",
    "add_value_labels(ax)\n",
    "plt.title('Season Finale Rate x Season')\n",
    "plt.xlabel('Season')\n",
    "plt.ylabel('Rate')\n",
    "plt.xticks(list(SeasonFinale.keys()))"
   ]
  }
 ],
 "metadata": {
  "kernelspec": {
   "display_name": "Python 3 (ipykernel)",
   "language": "python",
   "name": "python3"
  },
  "language_info": {
   "codemirror_mode": {
    "name": "ipython",
    "version": 3
   },
   "file_extension": ".py",
   "mimetype": "text/x-python",
   "name": "python",
   "nbconvert_exporter": "python",
   "pygments_lexer": "ipython3",
   "version": "3.9.7"
  }
 },
 "nbformat": 4,
 "nbformat_minor": 5
}
